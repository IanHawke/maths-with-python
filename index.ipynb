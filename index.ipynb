{
 "cells": [
  {
   "cell_type": "markdown",
   "metadata": {},
   "source": [
    "# Python for mathematicians"
   ]
  },
  {
   "cell_type": "markdown",
   "metadata": {},
   "source": [
    "This repository is for a course at Southampton University given in the first year, first semester, to introduce mathematics undergraduate students to programming using Python. The expected audience affects the presentation and particularly the exercises.\n",
    "\n",
    "The [opening notebook](00-first-steps.ipynb), mostly introduces how to install the software, and how to think about the course.\n",
    "\n",
    "The essential sections of the course are on\n",
    "\n",
    "* [the basics](01-python-basics.ipynb)\n",
    "* [functions and programs](02-programs.ipynb)\n",
    "* [loops and control flow](03-loops-control-flow.ipynb)\n",
    "* [basic plotting](04-basic-plotting.ipynb).\n",
    "\n",
    "The [next notebook introduces classes](05-classes-oop.ipynb), which should at least be started to get the most out of the rest. We then have three important sections on\n",
    "\n",
    "* [scientific Python](06-numpy-plotting.ipynb)\n",
    "* [symbolic Python](07-sympy.ipynb)\n",
    "* [statistics](08-statistics.ipynb).\n",
    "\n",
    "Finally, there are three \"appendices\" on\n",
    "\n",
    "* [testing](09-exceptions-testing.ipynb)\n",
    "* [generators](10-generators.ipynb)\n",
    "* [more details on classes, including inheritance](11-more-classes.ipynb)."
   ]
  },
  {
   "cell_type": "markdown",
   "metadata": {},
   "source": [
    "For issues or modifications, please raise them on [the github repository](https://github.com/IanHawke/maths-with-python)."
   ]
  }
 ],
 "metadata": {
  "kernelspec": {
   "display_name": "Python 3",
   "language": "python",
   "name": "python3"
  },
  "language_info": {
   "codemirror_mode": {
    "name": "ipython",
    "version": 3
   },
   "file_extension": ".py",
   "mimetype": "text/x-python",
   "name": "python",
   "nbconvert_exporter": "python",
   "pygments_lexer": "ipython3",
   "version": "3.4.4"
  }
 },
 "nbformat": 4,
 "nbformat_minor": 0
}
