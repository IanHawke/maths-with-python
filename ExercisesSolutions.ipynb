{
 "cells": [
  {
   "cell_type": "markdown",
   "metadata": {},
   "source": [
    "Suggestions for lab exercises."
   ]
  },
  {
   "cell_type": "markdown",
   "metadata": {},
   "source": [
    "# Variables and assignment"
   ]
  },
  {
   "cell_type": "markdown",
   "metadata": {},
   "source": [
    "## Exercise 1\n",
    "\n",
    "Remember that $n! = n \\times (n - 1) \\times \\dots \\times 2 \\times 1$. Compute $15!$, assigning the result to a sensible variable name."
   ]
  },
  {
   "cell_type": "markdown",
   "metadata": {},
   "source": [
    "#### Solution"
   ]
  },
  {
   "cell_type": "code",
   "execution_count": 1,
   "metadata": {
    "collapsed": false
   },
   "outputs": [
    {
     "name": "stdout",
     "output_type": "stream",
     "text": [
      "1307674368000\n"
     ]
    }
   ],
   "source": [
    "fifteen_factorial = 15*14*13*12*11*10*9*8*7*6*5*4*3*2*1\n",
    "print(fifteen_factorial)"
   ]
  },
  {
   "cell_type": "markdown",
   "metadata": {},
   "source": [
    "## Exercise 2\n",
    "\n",
    "Using the `math` module, check your result for $15$ factorial. You should explore the help for the `math` library and its functions, using eg tab-completion, the spyder inspector, or online sources."
   ]
  },
  {
   "cell_type": "markdown",
   "metadata": {},
   "source": [
    "#### Solution"
   ]
  },
  {
   "cell_type": "code",
   "execution_count": 2,
   "metadata": {
    "collapsed": false
   },
   "outputs": [
    {
     "name": "stdout",
     "output_type": "stream",
     "text": [
      "1307674368000\n",
      "Result correct? True\n"
     ]
    }
   ],
   "source": [
    "import math\n",
    "print(math.factorial(15))\n",
    "print(\"Result correct?\", math.factorial(15) == fifteen_factorial)"
   ]
  },
  {
   "cell_type": "markdown",
   "metadata": {},
   "source": [
    "## Exercise 3\n",
    "\n",
    "[Stirling's approximation](http://mathworld.wolfram.com/StirlingsApproximation.html) gives that, for large enough $n$, \n",
    "\n",
    "\\begin{equation}\n",
    "  n! \\simeq \\sqrt{2 \\pi} n^{n + 1/2} e^{-n}.\n",
    "\\end{equation}\n",
    "\n",
    "Using functions and constants from the `math` library, compare the results of $n!$ and Stirling's approximation for $n = 5, 10, 15, 20$. In what sense does the approximation improve?"
   ]
  },
  {
   "cell_type": "markdown",
   "metadata": {},
   "source": [
    "#### Solution"
   ]
  },
  {
   "cell_type": "code",
   "execution_count": 3,
   "metadata": {
    "collapsed": false
   },
   "outputs": [
    {
     "name": "stdout",
     "output_type": "stream",
     "text": [
      "120 118.01916795759007\n",
      "3628800 3598695.6187410355\n",
      "1307674368000 1300430722199.4658\n",
      "2432902008176640000 2.422786846761133e+18\n",
      "Absolute differences:\n",
      "1.9808320424099293\n",
      "30104.38125896454\n",
      "7243645800.53418\n",
      "1.0115161415506944e+16\n",
      "Relative differences:\n",
      "0.016506933686749412\n",
      "0.00829596044393864\n",
      "0.00553933454519939\n",
      "0.004157652622880542\n"
     ]
    }
   ],
   "source": [
    "print(math.factorial(5), math.sqrt(2*math.pi)*5**(5+0.5)*math.exp(-5))\n",
    "print(math.factorial(10), math.sqrt(2*math.pi)*10**(10+0.5)*math.exp(-10))\n",
    "print(math.factorial(15), math.sqrt(2*math.pi)*15**(15+0.5)*math.exp(-15))\n",
    "print(math.factorial(20), math.sqrt(2*math.pi)*20**(20+0.5)*math.exp(-20))\n",
    "print(\"Absolute differences:\")\n",
    "print(math.factorial(5) - math.sqrt(2*math.pi)*5**(5+0.5)*math.exp(-5))\n",
    "print(math.factorial(10) - math.sqrt(2*math.pi)*10**(10+0.5)*math.exp(-10))\n",
    "print(math.factorial(15) - math.sqrt(2*math.pi)*15**(15+0.5)*math.exp(-15))\n",
    "print(math.factorial(20) - math.sqrt(2*math.pi)*20**(20+0.5)*math.exp(-20))\n",
    "print(\"Relative differences:\")\n",
    "print((math.factorial(5) - math.sqrt(2*math.pi)*5**(5+0.5)*math.exp(-5)) / math.factorial(5))\n",
    "print((math.factorial(10) - math.sqrt(2*math.pi)*10**(10+0.5)*math.exp(-10)) / math.factorial(10))\n",
    "print((math.factorial(15) - math.sqrt(2*math.pi)*15**(15+0.5)*math.exp(-15)) / math.factorial(15))\n",
    "print((math.factorial(20) - math.sqrt(2*math.pi)*20**(20+0.5)*math.exp(-20)) / math.factorial(20))"
   ]
  },
  {
   "cell_type": "markdown",
   "metadata": {},
   "source": [
    "We see that the relative error decreases, whilst the absolute error grows (significantly)."
   ]
  },
  {
   "cell_type": "markdown",
   "metadata": {},
   "source": [
    "# Basic functions"
   ]
  },
  {
   "cell_type": "markdown",
   "metadata": {},
   "source": [
    "## Exercise 1\n",
    "\n",
    "Write a function to calculate the volume of a cuboid with edge lengths $a, b, c$. Test your code on sample values such as\n",
    "\n",
    "1. $a=1, b=1, c=1$ (result should be $1$);\n",
    "2. $a=1, b=2, c=3.5$ (result should be $7.0$);\n",
    "3. $a=0, b=1, c=1$ (result should be $0$);\n",
    "4. $a=2, b=-1, c=1$ (what do you think the result should be?)."
   ]
  },
  {
   "cell_type": "markdown",
   "metadata": {},
   "source": [
    "#### Solution"
   ]
  },
  {
   "cell_type": "code",
   "execution_count": 4,
   "metadata": {
    "collapsed": true
   },
   "outputs": [],
   "source": [
    "def cuboid_volume(a, b, c):\n",
    "    \"\"\"\n",
    "    Compute the volume of a cuboid with edge lengths a, b, c.\n",
    "    Volume is abc. Only makes sense if all are non-negative.\n",
    "    \n",
    "    Parameters\n",
    "    ----------\n",
    "    \n",
    "    a : float\n",
    "        Edge length 1\n",
    "    b : float\n",
    "        Edge length 2\n",
    "    c : float\n",
    "        Edge length 3\n",
    "        \n",
    "    Returns\n",
    "    -------\n",
    "    \n",
    "    volume : float\n",
    "        The volume a*b*c\n",
    "    \"\"\"\n",
    "    \n",
    "    if (a < 0.0) or (b < 0.0) or (c < 0.0):\n",
    "        print(\"Negative edge length makes no sense!\")\n",
    "        return 0\n",
    "    \n",
    "    return a*b*c"
   ]
  },
  {
   "cell_type": "code",
   "execution_count": 5,
   "metadata": {
    "collapsed": false
   },
   "outputs": [
    {
     "name": "stdout",
     "output_type": "stream",
     "text": [
      "1\n",
      "7.0\n",
      "0\n",
      "Negative edge length makes no sense!\n",
      "0\n"
     ]
    }
   ],
   "source": [
    "print(cuboid_volume(1,1,1))\n",
    "print(cuboid_volume(1,2,3.5))\n",
    "print(cuboid_volume(0,1,1))\n",
    "print(cuboid_volume(2,-1,1))"
   ]
  },
  {
   "cell_type": "markdown",
   "metadata": {},
   "source": [
    "In later cases, after having covered exceptions, I would suggest raising a `NotImplementedError` for negative edge lengths."
   ]
  },
  {
   "cell_type": "markdown",
   "metadata": {},
   "source": [
    "## Exercise 2\n",
    "\n",
    "Write a function to compute the time (in seconds) taken for an object to fall from a height $H$ (in metres) to the ground, using the formula\n",
    "\\begin{equation}\n",
    "  h(t) = \\frac{1}{2} g t^2.\n",
    "\\end{equation}\n",
    "Use the value of the acceleration due to gravity $g$ from `scipy.constants.g`. Test your code on sample values such as\n",
    "\n",
    "1. $H = 1$m (result should be $\\approx 0.452$s);\n",
    "2. $H = 10$m (result should be $\\approx 1.428$s);\n",
    "3. $H = 0$m (result should be $0$s);\n",
    "4. $H = -1$m (what do you think the result should be?)."
   ]
  },
  {
   "cell_type": "markdown",
   "metadata": {},
   "source": [
    "#### Solution"
   ]
  },
  {
   "cell_type": "code",
   "execution_count": 6,
   "metadata": {
    "collapsed": true
   },
   "outputs": [],
   "source": [
    "def fall_time(H):\n",
    "    \"\"\"\n",
    "    Give the time in seconds for an object to fall to the ground\n",
    "    from H metres.\n",
    "    \n",
    "    Parameters\n",
    "    ----------\n",
    "    \n",
    "    H : float\n",
    "        Starting height (metres)\n",
    "        \n",
    "    Returns\n",
    "    -------\n",
    "    \n",
    "    T : float\n",
    "        Fall time (seconds)\n",
    "    \"\"\"\n",
    "    \n",
    "    from math import sqrt\n",
    "    from scipy.constants import g\n",
    "    \n",
    "    if (H < 0):\n",
    "        print(\"Negative height makes no sense!\")\n",
    "        return 0\n",
    "    \n",
    "    return sqrt(2.0*H/g)"
   ]
  },
  {
   "cell_type": "code",
   "execution_count": 7,
   "metadata": {
    "collapsed": false
   },
   "outputs": [
    {
     "name": "stdout",
     "output_type": "stream",
     "text": [
      "0.45160075575178754\n",
      "1.4280869812290344\n",
      "0.0\n",
      "Negative height makes no sense!\n",
      "0\n"
     ]
    }
   ],
   "source": [
    "print(fall_time(1))\n",
    "print(fall_time(10))\n",
    "print(fall_time(0))\n",
    "print(fall_time(-1))"
   ]
  },
  {
   "cell_type": "markdown",
   "metadata": {},
   "source": [
    "## Exercise 3\n",
    "\n",
    "Write a function that computes the area of a triangle with edge lengths $a, b, c$. You may use the formula\n",
    "\\begin{equation}\n",
    "  A = \\sqrt{s (s - a) (s - b) (s - c)}, \\qquad s = \\frac{a + b + c}{2}.\n",
    "\\end{equation}\n",
    "\n",
    "Construct your own test cases to cover a range of possibilities."
   ]
  },
  {
   "cell_type": "code",
   "execution_count": 8,
   "metadata": {
    "collapsed": true
   },
   "outputs": [],
   "source": [
    "def triangle_area(a, b, c):\n",
    "    \"\"\"\n",
    "    Compute the area of a triangle with edge lengths a, b, c.\n",
    "    Area is sqrt(s (s-a) (s-b) (s-c)). \n",
    "    s is (a+b+c)/2.\n",
    "    Only makes sense if all are non-negative.\n",
    "    \n",
    "    Parameters\n",
    "    ----------\n",
    "    \n",
    "    a : float\n",
    "        Edge length 1\n",
    "    b : float\n",
    "        Edge length 2\n",
    "    c : float\n",
    "        Edge length 3\n",
    "        \n",
    "    Returns\n",
    "    -------\n",
    "    \n",
    "    area : float\n",
    "        The triangle area.\n",
    "    \"\"\"\n",
    "    \n",
    "    from math import sqrt\n",
    "    \n",
    "    if (a < 0.0) or (b < 0.0) or (c < 0.0):\n",
    "        print(\"Negative edge length makes no sense!\")\n",
    "        return 0\n",
    "    \n",
    "    s = 0.5 * (a + b + c)\n",
    "    return sqrt(s * (s-a) * (s-b) * (s-c))"
   ]
  },
  {
   "cell_type": "code",
   "execution_count": 9,
   "metadata": {
    "collapsed": false
   },
   "outputs": [
    {
     "name": "stdout",
     "output_type": "stream",
     "text": [
      "0.4330127018922193\n",
      "6.0\n",
      "0.0\n",
      "Negative edge length makes no sense!\n",
      "0\n"
     ]
    }
   ],
   "source": [
    "print(triangle_area(1,1,1)) # Equilateral; answer sqrt(3)/4 ~ 0.433\n",
    "print(triangle_area(3,4,5)) # Right triangle; answer 6\n",
    "print(triangle_area(1,1,0)) # Not a triangle; answer 0\n",
    "print(triangle_area(-1,1,1)) # Not a triangle; exception or 0."
   ]
  },
  {
   "cell_type": "markdown",
   "metadata": {},
   "source": [
    "# Floating point numbers"
   ]
  },
  {
   "cell_type": "markdown",
   "metadata": {},
   "source": [
    "## Exercise 1\n",
    "\n",
    "Computers cannot, in principle, represent real numbers perfectly. This can lead to problems of accuracy. For example, if\n",
    "\n",
    "\\begin{equation}\n",
    "  x = 1, \\qquad y = 1 + 10^{-14} \\sqrt{3}\n",
    "\\end{equation}\n",
    "\n",
    "then it *should* be true that\n",
    "\n",
    "\\begin{equation}\n",
    "  10^{14} (y - x) = \\sqrt{3}.\n",
    "\\end{equation}\n",
    "\n",
    "Check how accurately this equation holds in Python and see what this implies about the accuracy of subtracting two numbers that are close together."
   ]
  },
  {
   "cell_type": "markdown",
   "metadata": {},
   "source": [
    "#### Solution"
   ]
  },
  {
   "cell_type": "code",
   "execution_count": 10,
   "metadata": {
    "collapsed": false
   },
   "outputs": [
    {
     "name": "stdout",
     "output_type": "stream",
     "text": [
      "The calculation gives 1.7319479184152442\n",
      "The result should be 1.7320508075688772\n"
     ]
    }
   ],
   "source": [
    "from math import sqrt\n",
    "\n",
    "x = 1.0\n",
    "y = 1.0 + 1e-14 * sqrt(3.0)\n",
    "print(\"The calculation gives {}\".format(1e14*(y-x)))\n",
    "print(\"The result should be {}\".format(sqrt(3.0)))"
   ]
  },
  {
   "cell_type": "markdown",
   "metadata": {},
   "source": [
    "We see that the first three digits are correct. This isn't too surprising: we expect 16 digits of accuracy for a floating point number, but $x$ and $y$ are identical for the first 14 digits."
   ]
  },
  {
   "cell_type": "markdown",
   "metadata": {},
   "source": [
    "## Exercise 2\n",
    "\n",
    "The standard quadratic formula gives the solutions to\n",
    "\n",
    "\\begin{equation}\n",
    "  a x^2 + b x + c = 0\n",
    "\\end{equation}\n",
    "\n",
    "as\n",
    "\n",
    "\\begin{equation}\n",
    "  x = \\frac{-b \\pm \\sqrt{b^2 - 4 a c}}{2 a}.\n",
    "\\end{equation}\n",
    "\n",
    "Show that, if $a = 10^{-n} = c$ and $b = 10^n$ then\n",
    "\n",
    "\\begin{equation}\n",
    "  x = \\frac{10^{2 n}}{2} \\left( -1 \\pm \\sqrt{1 - 4 \\times 10^{-4n}} \\right).\n",
    "\\end{equation}\n",
    "\n",
    "Using the expansion (from Taylor's theorem)\n",
    "\n",
    "\\begin{equation}\n",
    "  \\sqrt{1 - 10^{-4 n}} \\simeq 1 - 2 \\times 10^{-4 n} + \\dots, \\qquad n \\gg 1,\n",
    "\\end{equation}\n",
    "\n",
    "show that\n",
    "\n",
    "\\begin{equation}\n",
    "  x \\simeq -10^{2 n} + 10^{-2 n} \\quad \\text{and} \\quad -10^{-2n}, \\qquad n \\gg 1.\n",
    "\\end{equation}"
   ]
  },
  {
   "cell_type": "markdown",
   "metadata": {},
   "source": [
    "#### Solution"
   ]
  },
  {
   "cell_type": "markdown",
   "metadata": {},
   "source": [
    "This is pen-and-paper work; each step should be re-arranging."
   ]
  },
  {
   "cell_type": "markdown",
   "metadata": {},
   "source": [
    "## Exercise 3\n",
    "\n",
    "By multiplying and dividing by $-b \\mp \\sqrt{b^2 - 4 a c}$, check that we can also write the solutions to the quadratic equation as\n",
    "\n",
    "\\begin{equation}\n",
    "  x = \\frac{2 c}{-b \\mp \\sqrt{b^2 - 4 a c}}.\n",
    "\\end{equation}"
   ]
  },
  {
   "cell_type": "markdown",
   "metadata": {},
   "source": [
    "#### Solution\n",
    "\n",
    "Using the difference of two squares we get\n",
    "\n",
    "\\begin{equation}\n",
    "  x = \\frac{b^2 - \\left( b^2 - 4 a c \\right)}{2a \\left( -b \\mp \\sqrt{b^2 - 4 a c} \\right)}\n",
    "\\end{equation}\n",
    "\n",
    "which re-arranges to give the required solution."
   ]
  },
  {
   "cell_type": "markdown",
   "metadata": {},
   "source": [
    "## Exercise 4\n",
    "\n",
    "Using Python, calculate both solutions to the quadratic equation\n",
    "\n",
    "\\begin{equation}\n",
    "  10^{-n} x^2 + 10^n x + 10^{-n} = 0\n",
    "\\end{equation}\n",
    "\n",
    "for $n = 3$ and $n = 4$ using both formulas. What do you see? How has floating point accuracy caused problems here?"
   ]
  },
  {
   "cell_type": "markdown",
   "metadata": {},
   "source": [
    "#### Solution"
   ]
  },
  {
   "cell_type": "code",
   "execution_count": 11,
   "metadata": {
    "collapsed": false
   },
   "outputs": [
    {
     "name": "stdout",
     "output_type": "stream",
     "text": [
      "For n=3, first formula, solutions are -9.999894245993346e-07 and -999999.999999.\n",
      "For n=3, second formula, solutions are -1000010.5755125057 and -1.000000000001e-06.\n",
      "For n=4, first formula, solutions are -9.094947017729282e-09 and -100000000.0.\n",
      "For n=4, second formula, solutions are -109951162.7776 and -1e-08.\n"
     ]
    }
   ],
   "source": [
    "a = 1e-3\n",
    "b = 1e3\n",
    "c = a\n",
    "formula1_n3_plus = (-b + sqrt(b**2 - 4.0*a*c))/(2.0*a)\n",
    "formula1_n3_minus = (-b - sqrt(b**2 - 4.0*a*c))/(2.0*a)\n",
    "formula2_n3_plus = (2.0*c)/(-b + sqrt(b**2 - 4.0*a*c))\n",
    "formula2_n3_minus = (2.0*c)/(-b - sqrt(b**2 - 4.0*a*c))\n",
    "print(\"For n=3, first formula, solutions are {} and {}.\".format(formula1_n3_plus, \n",
    "                                                                formula1_n3_minus))\n",
    "print(\"For n=3, second formula, solutions are {} and {}.\".format(formula2_n3_plus, \n",
    "                                                                 formula2_n3_minus))\n",
    "\n",
    "a = 1e-4\n",
    "b = 1e4\n",
    "c = a\n",
    "formula1_n4_plus = (-b + sqrt(b**2 - 4.0*a*c))/(2.0*a)\n",
    "formula1_n4_minus = (-b - sqrt(b**2 - 4.0*a*c))/(2.0*a)\n",
    "formula2_n4_plus = (2.0*c)/(-b + sqrt(b**2 - 4.0*a*c))\n",
    "formula2_n4_minus = (2.0*c)/(-b - sqrt(b**2 - 4.0*a*c))\n",
    "print(\"For n=4, first formula, solutions are {} and {}.\".format(formula1_n4_plus, \n",
    "                                                                formula1_n4_minus))\n",
    "print(\"For n=4, second formula, solutions are {} and {}.\".format(formula2_n4_plus, \n",
    "                                                                 formula2_n4_minus))"
   ]
  },
  {
   "cell_type": "markdown",
   "metadata": {},
   "source": [
    "There is a difference in the fifth significant figure in both solutions in the first case, which gets to the third (arguably the second) significant figure in the second case. Comparing to the limiting solutions above, we see that the *larger* root is definitely more accurately captured with the first formula than the second (as the result should be bigger than $10^{-2n}$).\n",
    "\n",
    "In the second case we have divided by a very small number to get the big number, which loses accuracy."
   ]
  },
  {
   "cell_type": "markdown",
   "metadata": {},
   "source": [
    "## Exercise 5\n",
    "\n",
    "The standard definition of the derivative of a function is\n",
    "\n",
    "\\begin{equation}\n",
    "  \\left. \\frac{\\text{d} f}{\\text{d} x} \\right|_{x=X} = \\lim_{\\delta \\to 0} \\frac{f(X + \\delta) - f(X)}{\\delta}.\n",
    "\\end{equation}\n",
    "\n",
    "We can *approximate* this by computing the result for a *finite* value of $\\delta$:\n",
    "\n",
    "\\begin{equation}\n",
    "  g(x, \\delta) = \\frac{f(x + \\delta) - f(x)}{\\delta}.\n",
    "\\end{equation}\n",
    "\n",
    "Write a function that takes as inputs a function of one variable, $f(x)$, a location $X$, and a step length $\\delta$, and returns the approximation to the derivative given by $g$."
   ]
  },
  {
   "cell_type": "markdown",
   "metadata": {},
   "source": [
    "#### Solution"
   ]
  },
  {
   "cell_type": "code",
   "execution_count": 12,
   "metadata": {
    "collapsed": true
   },
   "outputs": [],
   "source": [
    "def g(f, X, delta):\n",
    "    \"\"\"\n",
    "    Approximate the derivative of a given function at a point.\n",
    "    \n",
    "    Parameters\n",
    "    ----------\n",
    "    \n",
    "    f : function\n",
    "        Function to be differentiated\n",
    "    X : real\n",
    "        Point at which the derivative is evaluated\n",
    "    delta : real\n",
    "        Step length\n",
    "        \n",
    "    Returns\n",
    "    -------\n",
    "    \n",
    "    g : real\n",
    "        Approximation to the derivative\n",
    "    \"\"\"\n",
    "    \n",
    "    return (f(X+delta) - f(X)) / delta"
   ]
  },
  {
   "cell_type": "markdown",
   "metadata": {},
   "source": [
    "## Exercise 6\n",
    "\n",
    "The function $f_1(x) = e^x$ has derivative with the exact value $1$ at $x=0$. Compute the approximate derivative using your function above, for $\\delta = 10^{-2 n}$ with $n = 1, \\dots, 7$. You should see the results initially improve, then get worse. Why is this?"
   ]
  },
  {
   "cell_type": "markdown",
   "metadata": {},
   "source": [
    "#### Solution"
   ]
  },
  {
   "cell_type": "code",
   "execution_count": 13,
   "metadata": {
    "collapsed": false
   },
   "outputs": [
    {
     "name": "stdout",
     "output_type": "stream",
     "text": [
      "For n=1, the approx derivative is 1.005016708416795.\n",
      "For n=2, the approx derivative is 1.000050001667141.\n",
      "For n=3, the approx derivative is 1.0000004999621837.\n",
      "For n=4, the approx derivative is 0.999999993922529.\n",
      "For n=5, the approx derivative is 1.000000082740371.\n",
      "For n=6, the approx derivative is 1.000088900582341.\n",
      "For n=7, the approx derivative is 0.9992007221626409.\n"
     ]
    }
   ],
   "source": [
    "from math import exp\n",
    "for n in range(1, 8):\n",
    "    print(\"For n={}, the approx derivative is {}.\".format(n, g(exp, 0.0, 10**(-2.0*n))))"
   ]
  },
  {
   "cell_type": "markdown",
   "metadata": {},
   "source": [
    "We have a combination of floating point inaccuracies: in the numerator we have two terms that are nearly equal, leading to a very small number. We then divide two very small numbers. This is inherently inaccurate.\n",
    "\n",
    "This does not mean that you can't calculate derivatives to high accuracy, but alternative approaches are definitely recommended."
   ]
  },
  {
   "cell_type": "markdown",
   "metadata": {},
   "source": [
    "# Prime numbers"
   ]
  },
  {
   "cell_type": "markdown",
   "metadata": {},
   "source": [
    "## Exercise 1\n",
    "\n",
    "Write a function that tests if a number is prime. Test it by writing out all prime numbers less than 50."
   ]
  },
  {
   "cell_type": "markdown",
   "metadata": {},
   "source": [
    "#### Solution"
   ]
  },
  {
   "cell_type": "markdown",
   "metadata": {},
   "source": [
    "This is a \"simple\" solution, but not efficient."
   ]
  },
  {
   "cell_type": "code",
   "execution_count": 14,
   "metadata": {
    "collapsed": true
   },
   "outputs": [],
   "source": [
    "def isprime(n):\n",
    "    \"\"\"\n",
    "    Checks to see if an integer is prime.\n",
    "    \n",
    "    Parameters\n",
    "    ----------\n",
    "    \n",
    "    n : integer\n",
    "        Number to check\n",
    "        \n",
    "    Returns\n",
    "    -------\n",
    "    \n",
    "    isprime : Boolean\n",
    "        If n is prime\n",
    "    \"\"\"\n",
    "    \n",
    "    # No number less than 2 can be prime\n",
    "    if n < 2:\n",
    "        return False\n",
    "    \n",
    "    # We only need to check for divisors up to sqrt(n)\n",
    "    for m in range(2, int(n**0.5)+1):\n",
    "        if n%m == 0:\n",
    "            return False\n",
    "    \n",
    "    # If we've got this far, there are no divisors.\n",
    "    return True"
   ]
  },
  {
   "cell_type": "code",
   "execution_count": 15,
   "metadata": {
    "collapsed": false
   },
   "outputs": [
    {
     "name": "stdout",
     "output_type": "stream",
     "text": [
      "Function says that 2 is prime.\n",
      "Function says that 3 is prime.\n",
      "Function says that 5 is prime.\n",
      "Function says that 7 is prime.\n",
      "Function says that 11 is prime.\n",
      "Function says that 13 is prime.\n",
      "Function says that 17 is prime.\n",
      "Function says that 19 is prime.\n",
      "Function says that 23 is prime.\n",
      "Function says that 29 is prime.\n",
      "Function says that 31 is prime.\n",
      "Function says that 37 is prime.\n",
      "Function says that 41 is prime.\n",
      "Function says that 43 is prime.\n",
      "Function says that 47 is prime.\n"
     ]
    }
   ],
   "source": [
    "for n in range(50):\n",
    "    if isprime(n):\n",
    "        print(\"Function says that {} is prime.\".format(n))"
   ]
  },
  {
   "cell_type": "markdown",
   "metadata": {},
   "source": [
    "## Exercise 2\n",
    "\n",
    "500 years ago some believed that the number $2^n - 1$ was prime for *all* primes $n$. Use your function to find the first prime $n$ for which this is not true."
   ]
  },
  {
   "cell_type": "markdown",
   "metadata": {},
   "source": [
    "#### Solution"
   ]
  },
  {
   "cell_type": "markdown",
   "metadata": {},
   "source": [
    "We could do this many ways. This \"elegant\" solution says:\n",
    "\n",
    "* Start from the smallest possible $n$ (2).\n",
    "* Check if $n$ is prime. If not, add one to $n$.\n",
    "* If $n$ is prime, check if $2^n-1$ is prime. If it is, add one to $n$.\n",
    "* If both those logical checks fail, we have found the $n$ we want."
   ]
  },
  {
   "cell_type": "code",
   "execution_count": 16,
   "metadata": {
    "collapsed": false
   },
   "outputs": [
    {
     "name": "stdout",
     "output_type": "stream",
     "text": [
      "The first n such that 2^n-1 is not prime is 11.\n"
     ]
    }
   ],
   "source": [
    "n = 2\n",
    "while (not isprime(n)) or (isprime(2**n-1)):\n",
    "    n += 1\n",
    "print(\"The first n such that 2^n-1 is not prime is {}.\".format(n))"
   ]
  },
  {
   "cell_type": "markdown",
   "metadata": {},
   "source": [
    "## Exercise 3\n",
    "\n",
    "The *Mersenne* primes are those that have the form $2^n-1$, where $n$ is prime. Use your previous solutions to generate all the $n < 40$ that give Mersenne primes."
   ]
  },
  {
   "cell_type": "markdown",
   "metadata": {},
   "source": [
    "#### Solution"
   ]
  },
  {
   "cell_type": "code",
   "execution_count": 17,
   "metadata": {
    "collapsed": false
   },
   "outputs": [
    {
     "name": "stdout",
     "output_type": "stream",
     "text": [
      "n=2 is such that 2^n-1 is prime.\n",
      "n=3 is such that 2^n-1 is prime.\n",
      "n=5 is such that 2^n-1 is prime.\n",
      "n=7 is such that 2^n-1 is prime.\n",
      "n=13 is such that 2^n-1 is prime.\n",
      "n=17 is such that 2^n-1 is prime.\n",
      "n=19 is such that 2^n-1 is prime.\n",
      "n=31 is such that 2^n-1 is prime.\n"
     ]
    }
   ],
   "source": [
    "for n in range(2, 41):\n",
    "    if isprime(n) and isprime(2**n-1):\n",
    "        print(\"n={} is such that 2^n-1 is prime.\".format(n))"
   ]
  },
  {
   "cell_type": "markdown",
   "metadata": {},
   "source": [
    "## Exercise 4\n",
    "\n",
    "Write a function to compute all prime factors of an integer $n$, including their multiplicities. Test it by printing the prime factors (without multiplicities) of $n = 17, \\dots, 20$ and the multiplicities (without factors) of $n = 48$.\n",
    "\n",
    "##### Note \n",
    "\n",
    "One effective solution is to return a *dictionary*, where the keys are the factors and the values are the multiplicities."
   ]
  },
  {
   "cell_type": "markdown",
   "metadata": {},
   "source": [
    "#### Solution"
   ]
  },
  {
   "cell_type": "markdown",
   "metadata": {},
   "source": [
    "This solution uses the trick of immediately dividing $n$ by any divisor: this means we never have to check the divisor for being prime."
   ]
  },
  {
   "cell_type": "code",
   "execution_count": 18,
   "metadata": {
    "collapsed": true
   },
   "outputs": [],
   "source": [
    "def prime_factors(n):\n",
    "    \"\"\"\n",
    "    Generate all the prime factors of n.\n",
    "    \n",
    "    Parameters\n",
    "    ----------\n",
    "    \n",
    "    n : integer\n",
    "        Number to be checked\n",
    "        \n",
    "    Returns\n",
    "    -------\n",
    "    \n",
    "    factors : dict\n",
    "        Prime factors (keys) and multiplicities (values)\n",
    "    \"\"\"\n",
    "    \n",
    "    factors = {}\n",
    "    \n",
    "    m = 2\n",
    "    while m <= n:\n",
    "        if n%m == 0:\n",
    "            factors[m] = 1\n",
    "            n //= m\n",
    "            while n%m == 0:\n",
    "                factors[m] += 1\n",
    "                n //= m\n",
    "        m += 1\n",
    "        \n",
    "    return factors"
   ]
  },
  {
   "cell_type": "code",
   "execution_count": 19,
   "metadata": {
    "collapsed": false
   },
   "outputs": [
    {
     "name": "stdout",
     "output_type": "stream",
     "text": [
      "Prime factors of 17 are dict_keys([17]).\n",
      "Prime factors of 18 are dict_keys([2, 3]).\n",
      "Prime factors of 19 are dict_keys([19]).\n",
      "Prime factors of 20 are dict_keys([2, 5]).\n",
      "Multiplicities of prime factors of 48 are dict_values([4, 1]).\n"
     ]
    }
   ],
   "source": [
    "for n in range(17, 21):\n",
    "    print(\"Prime factors of {} are {}.\".format(n, prime_factors(n).keys()))\n",
    "print(\"Multiplicities of prime factors of 48 are {}.\".format(prime_factors(48).values()))"
   ]
  },
  {
   "cell_type": "markdown",
   "metadata": {},
   "source": [
    "## Exercise 5\n",
    "\n",
    "Write a function to generate all the integer divisors, including 1, but not including $n$ itself, of an integer $n$. Test it on $n = 16, \\dots, 20$.\n",
    "\n",
    "##### Note\n",
    "\n",
    "You could use the prime factorization from the previous exercise, or you could do it directly."
   ]
  },
  {
   "cell_type": "markdown",
   "metadata": {},
   "source": [
    "#### Solution"
   ]
  },
  {
   "cell_type": "markdown",
   "metadata": {},
   "source": [
    "Here we will do it directly."
   ]
  },
  {
   "cell_type": "code",
   "execution_count": 20,
   "metadata": {
    "collapsed": true
   },
   "outputs": [],
   "source": [
    "def divisors(n):\n",
    "    \"\"\"\n",
    "    Generate all integer divisors of n.\n",
    "    \n",
    "    Parameters\n",
    "    ----------\n",
    "    \n",
    "    n : integer\n",
    "        Number to be checked\n",
    "        \n",
    "    Returns\n",
    "    -------\n",
    "    \n",
    "    divs : list\n",
    "        All integer divisors, including 1.\n",
    "    \"\"\"\n",
    "    \n",
    "    divs = [1]\n",
    "    m = 2\n",
    "    while m <= n/2:\n",
    "        if n%m == 0:\n",
    "            divs.append(m)\n",
    "        m += 1\n",
    "        \n",
    "    return divs"
   ]
  },
  {
   "cell_type": "code",
   "execution_count": 21,
   "metadata": {
    "collapsed": false
   },
   "outputs": [
    {
     "name": "stdout",
     "output_type": "stream",
     "text": [
      "The divisors of 16 are [1, 2, 4, 8].\n",
      "The divisors of 17 are [1].\n",
      "The divisors of 18 are [1, 2, 3, 6, 9].\n",
      "The divisors of 19 are [1].\n",
      "The divisors of 20 are [1, 2, 4, 5, 10].\n"
     ]
    }
   ],
   "source": [
    "for n in range(16, 21):\n",
    "    print(\"The divisors of {} are {}.\".format(n, divisors(n)))"
   ]
  },
  {
   "cell_type": "markdown",
   "metadata": {},
   "source": [
    "## Exercise 6\n",
    "\n",
    "A *perfect* number $n$ is one where the divisors sum to $n$. For example, 6 has divisors 1, 2, and 3, which sum to 6. Use your previous solution to find all perfect numbers $n < 10,000$ (there are only four!)."
   ]
  },
  {
   "cell_type": "markdown",
   "metadata": {},
   "source": [
    "#### Solution"
   ]
  },
  {
   "cell_type": "markdown",
   "metadata": {},
   "source": [
    "We can do this much more efficiently than the code below using packages such as `numpy`, but this is a \"bare python\" solution."
   ]
  },
  {
   "cell_type": "code",
   "execution_count": 22,
   "metadata": {
    "collapsed": true
   },
   "outputs": [],
   "source": [
    "def isperfect(n):\n",
    "    \"\"\"\n",
    "    Check if a number is perfect.\n",
    "    \n",
    "    Parameters\n",
    "    ----------\n",
    "    \n",
    "    n : integer\n",
    "        Number to check\n",
    "        \n",
    "    Returns\n",
    "    -------\n",
    "    \n",
    "    isperfect : Boolean\n",
    "        Whether it is perfect or not.\n",
    "    \"\"\"\n",
    "    \n",
    "    divs = divisors(n)\n",
    "    sum_divs = 0\n",
    "    for d in divs:\n",
    "        sum_divs += d\n",
    "    \n",
    "    return n == sum_divs"
   ]
  },
  {
   "cell_type": "code",
   "execution_count": 23,
   "metadata": {
    "collapsed": false
   },
   "outputs": [
    {
     "name": "stdout",
     "output_type": "stream",
     "text": [
      "6 is perfect.\n",
      "Divisors are [1, 2, 3].\n",
      "Prime factors dict_keys([2, 3]) (multiplicities dict_values([1, 1])).\n",
      "28 is perfect.\n",
      "Divisors are [1, 2, 4, 7, 14].\n",
      "Prime factors dict_keys([2, 7]) (multiplicities dict_values([2, 1])).\n",
      "496 is perfect.\n",
      "Divisors are [1, 2, 4, 8, 16, 31, 62, 124, 248].\n",
      "Prime factors dict_keys([2, 31]) (multiplicities dict_values([4, 1])).\n",
      "8128 is perfect.\n",
      "Divisors are [1, 2, 4, 8, 16, 32, 64, 127, 254, 508, 1016, 2032, 4064].\n",
      "Prime factors dict_keys([2, 127]) (multiplicities dict_values([6, 1])).\n"
     ]
    }
   ],
   "source": [
    "for n in range(2,10000):\n",
    "    if (isperfect(n)):\n",
    "        factors = prime_factors(n)\n",
    "        print(\"{} is perfect.\\n\"\n",
    "              \"Divisors are {}.\\n\"\n",
    "              \"Prime factors {} (multiplicities {}).\".format(\n",
    "            n, divisors(n), factors.keys(), factors.values()))"
   ]
  },
  {
   "cell_type": "markdown",
   "metadata": {},
   "source": [
    "## Exercise 7\n",
    "\n",
    "Using your previous functions, check that all perfect numbers $n < 10,000$ can be written as $2^{k-1} \\times (2^k - 1)$, where $2^k-1$ is a Mersenne prime."
   ]
  },
  {
   "cell_type": "markdown",
   "metadata": {},
   "source": [
    "#### Solution"
   ]
  },
  {
   "cell_type": "markdown",
   "metadata": {},
   "source": [
    "In fact we did this above already:\n",
    "\n",
    "* $6 = 2^{2-1} \\times (2^2 - 1)$. 2 is the first number on our Mersenne list.\n",
    "* $28 = 2^{3-1} \\times (2^3 - 1)$. 3 is the second number on our Mersenne list.\n",
    "* $496 = 2^{5-1} \\times (2^5 - 1)$. 5 is the third number on our Mersenne list.\n",
    "* $8128 = 2^{7-1} \\times (2^7 - 1)$. 7 is the fourth number on our Mersenne list."
   ]
  },
  {
   "cell_type": "markdown",
   "metadata": {},
   "source": [
    "## Exercise 8 (bonus)\n",
    "\n",
    "Investigate the `timeit` function in python or IPython. Use this to measure how long your function takes to check that, if $k$ on the Mersenne list then $n = 2^{k-1} \\times (2^k - 1)$ is a perfect number, using your functions. Stop increasing $k$ when the time takes too long!\n",
    "\n",
    "##### Note\n",
    "\n",
    "You could waste considerable time on this, and on optimizing the functions above to work efficiently. It is *not* worth it, other than to show how rapidly the computation time can grow!"
   ]
  },
  {
   "cell_type": "markdown",
   "metadata": {},
   "source": [
    "#### Solution"
   ]
  },
  {
   "cell_type": "code",
   "execution_count": 24,
   "metadata": {
    "collapsed": false
   },
   "outputs": [
    {
     "name": "stdout",
     "output_type": "stream",
     "text": [
      "100000 loops, best of 3: 7.65 µs per loop\n"
     ]
    }
   ],
   "source": [
    "%timeit isperfect(2**(3-1)*(2**3-1))"
   ]
  },
  {
   "cell_type": "code",
   "execution_count": 25,
   "metadata": {
    "collapsed": false
   },
   "outputs": [
    {
     "name": "stdout",
     "output_type": "stream",
     "text": [
      "10000 loops, best of 3: 83.9 µs per loop\n"
     ]
    }
   ],
   "source": [
    "%timeit isperfect(2**(5-1)*(2**5-1))"
   ]
  },
  {
   "cell_type": "code",
   "execution_count": 26,
   "metadata": {
    "collapsed": false
   },
   "outputs": [
    {
     "name": "stdout",
     "output_type": "stream",
     "text": [
      "1000 loops, best of 3: 1.6 ms per loop\n"
     ]
    }
   ],
   "source": [
    "%timeit isperfect(2**(7-1)*(2**7-1))"
   ]
  },
  {
   "cell_type": "code",
   "execution_count": 27,
   "metadata": {
    "collapsed": false
   },
   "outputs": [
    {
     "name": "stdout",
     "output_type": "stream",
     "text": [
      "1 loops, best of 3: 6.39 s per loop\n"
     ]
    }
   ],
   "source": [
    "%timeit isperfect(2**(13-1)*(2**13-1))"
   ]
  },
  {
   "cell_type": "markdown",
   "metadata": {},
   "source": [
    "It's worth thinking about the operation counts of the various functions implemented here. The implementations are inefficient, but even in the best case you see how the number of operations (and hence computing time required) rapidly increases."
   ]
  },
  {
   "cell_type": "markdown",
   "metadata": {},
   "source": [
    "# Logistic map"
   ]
  },
  {
   "cell_type": "markdown",
   "metadata": {},
   "source": [
    "Partly taken from Newman's book, p 120."
   ]
  },
  {
   "cell_type": "markdown",
   "metadata": {},
   "source": [
    "The logistic map builds a sequence of numbers $\\{ x_n \\}$ using the relation\n",
    "\n",
    "\\begin{equation}\n",
    "  x_{n+1} = r x_n \\left( 1 - x_n \\right),\n",
    "\\end{equation}\n",
    "\n",
    "where $0 \\le x_0 \\le 1$."
   ]
  },
  {
   "cell_type": "markdown",
   "metadata": {},
   "source": [
    "## Exercise 1\n",
    "\n",
    "Write a program that calculates the first $N$ members of the sequence, given as input $x_0$ and $r$ (and, of course, $N$)."
   ]
  },
  {
   "cell_type": "markdown",
   "metadata": {},
   "source": [
    "#### Solution"
   ]
  },
  {
   "cell_type": "code",
   "execution_count": 28,
   "metadata": {
    "collapsed": true
   },
   "outputs": [],
   "source": [
    "def logistic(x0, r, N = 1000):\n",
    "    sequence = [x0]\n",
    "    xn = x0\n",
    "    for n in range(N):\n",
    "        xnew = r*xn*(1.0-xn)\n",
    "        sequence.append(xnew)\n",
    "        xn = xnew\n",
    "    return sequence"
   ]
  },
  {
   "cell_type": "markdown",
   "metadata": {},
   "source": [
    "## Exercise 2\n",
    "\n",
    "Fix $x_0=0.5$. Calculate the first 2,000 members of the sequence for $r=1.5$ and $r=3.5$ Plot the last 100 members of the sequence in both cases.\n",
    "\n",
    "What does this suggest about the long-term behaviour of the sequence?"
   ]
  },
  {
   "cell_type": "markdown",
   "metadata": {},
   "source": [
    "#### Solution"
   ]
  },
  {
   "cell_type": "code",
   "execution_count": 29,
   "metadata": {
    "collapsed": false
   },
   "outputs": [
    {
     "data": {
      "image/png": "[encoded data removed]",
      "text/plain": [
       "<matplotlib.figure.Figure at 0x105b6d048>"
      ]
     },
     "metadata": {},
     "output_type": "display_data"
    }
   ],
   "source": [
    "import numpy\n",
    "from matplotlib import pyplot\n",
    "%matplotlib inline\n",
    "\n",
    "x0 = 0.5\n",
    "N = 2000\n",
    "sequence1 = logistic(x0, 1.5, N)\n",
    "sequence2 = logistic(x0, 3.5, N)\n",
    "pyplot.plot(sequence1[-100:], 'b-', label = r'$r=1.5$')\n",
    "pyplot.plot(sequence2[-100:], 'k-', label = r'$r=3.5$')\n",
    "pyplot.xlabel(r'$n$')\n",
    "pyplot.ylabel(r'$x$')\n",
    "pyplot.show()"
   ]
  },
  {
   "cell_type": "markdown",
   "metadata": {},
   "source": [
    "This suggests that, for $r=1.5$, the sequence has settled down to a fixed point. In the $r=3.5$ case it seems to be moving between four points repeatedly."
   ]
  },
  {
   "cell_type": "markdown",
   "metadata": {},
   "source": [
    "## Exercise 3\n",
    "\n",
    "Fix $x_0 = 0.5$. For each value of $r$ between $1$ and $4$, in steps of $0.01$, calculate the first 2,000 members of the sequence. Plot the last 1,000 members of the sequence on a plot where the $x$-axis is the value of $r$ and the $y$-axis is the values in the sequence. Do not plot lines - just plot markers (e.g., use the `'k.'` plotting style)."
   ]
  },
  {
   "cell_type": "markdown",
   "metadata": {},
   "source": [
    "#### Solution"
   ]
  },
  {
   "cell_type": "code",
   "execution_count": 30,
   "metadata": {
    "collapsed": false
   },
   "outputs": [
    {
     "data": {
      "image/png": "[encoded data removed]",
      "text/plain": [
       "<matplotlib.figure.Figure at 0x106922278>"
      ]
     },
     "metadata": {},
     "output_type": "display_data"
    }
   ],
   "source": [
    "import numpy\n",
    "from matplotlib import pyplot\n",
    "%matplotlib inline\n",
    "\n",
    "# This is the \"best\" way of doing it, but numpy hasn't been introduced yet\n",
    "# r_values = numpy.arange(1.0, 4.0, 0.01) \n",
    "r_values = []\n",
    "for i in range(302):\n",
    "    r_values.append(1.0 + 0.01 * i)\n",
    "x0 = 0.5\n",
    "N = 2000\n",
    "for r in r_values:\n",
    "    sequence = logistic(x0, r, N)\n",
    "    pyplot.plot(r*numpy.ones_like(sequence[1000:]), sequence[1000:], 'k.')\n",
    "pyplot.xlabel(r'$r$')\n",
    "pyplot.ylabel(r'$x$')\n",
    "pyplot.show()"
   ]
  },
  {
   "cell_type": "markdown",
   "metadata": {},
   "source": [
    "## Exercise 4\n",
    "\n",
    "For iterative maps such as the logistic map, one of three things can occur:\n",
    "\n",
    "1. The sequence settles down to a *fixed point*.\n",
    "2. The sequence rotates through a finite number of values. This is called a *limit cycle*.\n",
    "3. The sequence generates an infinite number of values. This is called *deterministic chaos*.\n",
    "\n",
    "Using just your plot, or new plots from this data, work out approximate values of $r$ for which there is a transition from fixed points to limit cycles, from limit cycles of a given number of values to more values, and the transition to chaos."
   ]
  },
  {
   "cell_type": "markdown",
   "metadata": {},
   "source": [
    "#### Solution"
   ]
  },
  {
   "cell_type": "markdown",
   "metadata": {},
   "source": [
    "The first transition is at $r \\approx 3$, the next at $r \\approx 3.45$, the next at $r \\approx 3.55$. The transition to chaos appears to happen before $r=4$, but it's not obvious exactly where."
   ]
  },
  {
   "cell_type": "markdown",
   "metadata": {},
   "source": [
    "# Mandelbrot"
   ]
  },
  {
   "cell_type": "markdown",
   "metadata": {},
   "source": [
    "The Mandelbrot set is also generated from a sequence, $\\{ z_n \\}$, using the relation\n",
    "\n",
    "\\begin{equation}\n",
    "  z_{n+1} = z_n^2 + c, \\qquad z_0 = 0.\n",
    "\\end{equation}\n",
    "\n",
    "The members of the sequence, and the constant $c$, are all complex. The point in the complex plane at $c$ is in the Mandelbrot set only if the $|z_n| < 2$ for all members of the sequence. In reality, checking the first 100 iterations is sufficient.\n",
    "\n",
    "Note: the python notation for a complex number $x + \\text{i} y$ is `x + yj`: that is, `j` is used to indicate $\\sqrt{-1}$. If you know the values of `x` and `y` then `x + yj` constructs a complex number; if they are stored in variables you can use `complex(x, y)`."
   ]
  },
  {
   "cell_type": "markdown",
   "metadata": {},
   "source": [
    "## Exercise 1\n",
    "\n",
    "Write a function that checks if the point $c$ is in the Mandelbrot set."
   ]
  },
  {
   "cell_type": "markdown",
   "metadata": {},
   "source": [
    "#### Solution"
   ]
  },
  {
   "cell_type": "code",
   "execution_count": 31,
   "metadata": {
    "collapsed": true
   },
   "outputs": [],
   "source": [
    "def in_Mandelbrot(c, n_iterations = 100):\n",
    "    z0 = 0.0 + 0j\n",
    "    in_set = True\n",
    "    n = 0\n",
    "    zn = z0\n",
    "    while in_set and (n < n_iterations):\n",
    "        n += 1\n",
    "        znew = zn**2 + c\n",
    "        in_set = abs(znew) < 2.0\n",
    "        zn = znew\n",
    "    return in_set"
   ]
  },
  {
   "cell_type": "markdown",
   "metadata": {},
   "source": [
    "## Exercise 2\n",
    "\n",
    "Check the points $c=0$ and $c=\\pm 2 \\pm 2 \\text{i}$ and ensure they do what you expect. (What *should* you expect?)"
   ]
  },
  {
   "cell_type": "markdown",
   "metadata": {},
   "source": [
    "#### Solution"
   ]
  },
  {
   "cell_type": "code",
   "execution_count": 32,
   "metadata": {
    "collapsed": false
   },
   "outputs": [
    {
     "name": "stdout",
     "output_type": "stream",
     "text": [
      "Is 0.0 in the Mandelbrot set? True.\n",
      "Is (2+2j) in the Mandelbrot set? False.\n",
      "Is (2-2j) in the Mandelbrot set? False.\n",
      "Is (-2+2j) in the Mandelbrot set? False.\n",
      "Is (-2-2j) in the Mandelbrot set? False.\n"
     ]
    }
   ],
   "source": [
    "c_values = [0.0, 2+2j, 2-2j, -2+2j, -2-2j]\n",
    "for c in c_values:\n",
    "    print(\"Is {} in the Mandelbrot set? {}.\".format(c, in_Mandelbrot(c)))"
   ]
  },
  {
   "cell_type": "markdown",
   "metadata": {},
   "source": [
    "## Exercise 3\n",
    "\n",
    "Write a function that, given $N$\n",
    "\n",
    "1. generates an $N \\times N$ grid spanning $c = x + \\text{i} y$, for $-2 \\le x \\le 2$ and $-2 \\le y \\le 2$;\n",
    "2. returns an $N\\times N$ array containing one if the associated grid point is in the Mandelbrot set, and zero otherwise."
   ]
  },
  {
   "cell_type": "markdown",
   "metadata": {},
   "source": [
    "#### Solution"
   ]
  },
  {
   "cell_type": "code",
   "execution_count": 33,
   "metadata": {
    "collapsed": true
   },
   "outputs": [],
   "source": [
    "import numpy\n",
    "\n",
    "def grid_Mandelbrot(N):\n",
    "    x = numpy.linspace(-2.0, 2.0, N)\n",
    "    X, Y = numpy.meshgrid(x, x)\n",
    "    C = X + 1j*Y\n",
    "    grid = numpy.zeros((N, N), int)\n",
    "    for nx in range(N):\n",
    "        for ny in range(N):\n",
    "            grid[nx, ny] = int(in_Mandelbrot(C[nx, ny]))\n",
    "    return grid"
   ]
  },
  {
   "cell_type": "markdown",
   "metadata": {},
   "source": [
    "## Exercise 4\n",
    "\n",
    "Using the function `imshow` from `matplotlib`, plot the resulting array for a $100 \\times 100$ array to make sure you see the expected shape."
   ]
  },
  {
   "cell_type": "markdown",
   "metadata": {},
   "source": [
    "#### Solution"
   ]
  },
  {
   "cell_type": "code",
   "execution_count": 34,
   "metadata": {
    "collapsed": false
   },
   "outputs": [
    {
     "data": {
      "text/plain": [
       "<matplotlib.image.AxesImage at 0x10749ba20>"
      ]
     },
     "execution_count": 34,
     "metadata": {},
     "output_type": "execute_result"
    },
    {
     "data": {
      "image/png": "[encoded data removed]",
      "text/plain": [
       "<matplotlib.figure.Figure at 0x1072fcfd0>"
      ]
     },
     "metadata": {},
     "output_type": "display_data"
    }
   ],
   "source": [
    "from matplotlib import pyplot\n",
    "%matplotlib inline\n",
    "\n",
    "pyplot.imshow(grid_Mandelbrot(100))"
   ]
  },
  {
   "cell_type": "markdown",
   "metadata": {},
   "source": [
    "## Exercise 5\n",
    "\n",
    "Modify your functions so that, instead of returning whether a point is inside the set or not, it returns the logarithm of the number of iterations it takes. Plot the result using `imshow` again."
   ]
  },
  {
   "cell_type": "markdown",
   "metadata": {},
   "source": [
    "#### Solution"
   ]
  },
  {
   "cell_type": "code",
   "execution_count": 35,
   "metadata": {
    "collapsed": true
   },
   "outputs": [],
   "source": [
    "from math import log\n",
    "\n",
    "def log_Mandelbrot(c, n_iterations = 100):\n",
    "    z0 = 0.0 + 0j\n",
    "    in_set = True\n",
    "    n = 0\n",
    "    zn = z0\n",
    "    while in_set and (n < n_iterations):\n",
    "        n += 1\n",
    "        znew = zn**2 + c\n",
    "        in_set = abs(znew) < 2.0\n",
    "        zn = znew\n",
    "    return log(n)\n",
    "\n",
    "def log_grid_Mandelbrot(N):\n",
    "    x = numpy.linspace(-2.0, 2.0, N)\n",
    "    X, Y = numpy.meshgrid(x, x)\n",
    "    C = X + 1j*Y\n",
    "    grid = numpy.zeros((N, N), int)\n",
    "    for nx in range(N):\n",
    "        for ny in range(N):\n",
    "            grid[nx, ny] = log_Mandelbrot(C[nx, ny])\n",
    "    return grid"
   ]
  },
  {
   "cell_type": "code",
   "execution_count": 36,
   "metadata": {
    "collapsed": false
   },
   "outputs": [
    {
     "data": {
      "text/plain": [
       "<matplotlib.image.AxesImage at 0x1076dd3c8>"
      ]
     },
     "execution_count": 36,
     "metadata": {},
     "output_type": "execute_result"
    },
    {
     "data": {
      "image/png": "[encoded data removed]",
      "text/plain": [
       "<matplotlib.figure.Figure at 0x10746ae48>"
      ]
     },
     "metadata": {},
     "output_type": "display_data"
    }
   ],
   "source": [
    "from matplotlib import pyplot\n",
    "%matplotlib inline\n",
    "\n",
    "pyplot.imshow(log_grid_Mandelbrot(100))"
   ]
  },
  {
   "cell_type": "markdown",
   "metadata": {},
   "source": [
    "## Exercise 6\n",
    "\n",
    "Try some higher resolution plots, and try plotting only a section to see the structure. **Note** this is not a good way to get high accuracy close up images!"
   ]
  },
  {
   "cell_type": "markdown",
   "metadata": {},
   "source": [
    "#### Solution"
   ]
  },
  {
   "cell_type": "markdown",
   "metadata": {},
   "source": [
    "This is a simple example:"
   ]
  },
  {
   "cell_type": "code",
   "execution_count": 37,
   "metadata": {
    "collapsed": false
   },
   "outputs": [
    {
     "data": {
      "text/plain": [
       "<matplotlib.image.AxesImage at 0x107793cc0>"
      ]
     },
     "execution_count": 37,
     "metadata": {},
     "output_type": "execute_result"
    },
    {
     "data": {
      "image/png": "[encoded data removed]",
      "text/plain": [
       "<matplotlib.figure.Figure at 0x1076f54a8>"
      ]
     },
     "metadata": {},
     "output_type": "display_data"
    }
   ],
   "source": [
    "pyplot.imshow(log_grid_Mandelbrot(1000)[600:800,400:600])"
   ]
  },
  {
   "cell_type": "markdown",
   "metadata": {},
   "source": [
    "# Equivalence classes"
   ]
  },
  {
   "cell_type": "markdown",
   "metadata": {},
   "source": [
    "An *equivalence class* is a relation that groups objects in a set into related subsets. For example, if we think of the integers modulo $7$, then $1$ is in the same equivalence class as $8$ (and $15$, and $22$, and so on), and $3$ is in the same equivalence class as $10$. We use the tilde $3 \\sim 10$ to denote two objects within the same equivalence class.\n",
    "\n",
    "Here, we are going to define the positive integers programmatically from equivalent sequences."
   ]
  },
  {
   "cell_type": "markdown",
   "metadata": {},
   "source": [
    "## Exercise 1\n",
    "\n",
    "Define a python class `Eqint`. This should be\n",
    "\n",
    "1. Initialized by a sequence;\n",
    "2. Store the sequence;\n",
    "3. Define its representation (via the `__repr__` function) to be the integer length of the sequence;\n",
    "4. Redefine equality (via the `__eq__` function) so that two `eqint`s are equal if their sequences have same length."
   ]
  },
  {
   "cell_type": "markdown",
   "metadata": {},
   "source": [
    "#### Solution"
   ]
  },
  {
   "cell_type": "code",
   "execution_count": 38,
   "metadata": {
    "collapsed": true
   },
   "outputs": [],
   "source": [
    "class Eqint(object):\n",
    "    \n",
    "    def __init__(self, sequence):\n",
    "        self.sequence = sequence\n",
    "        \n",
    "    def __repr__(self):\n",
    "        return str(len(self.sequence))\n",
    "    \n",
    "    def __eq__(self, other):\n",
    "        return len(self.sequence)==len(other.sequence)"
   ]
  },
  {
   "cell_type": "markdown",
   "metadata": {},
   "source": [
    "## Exercise 2\n",
    "\n",
    "Define a `zero` object from the empty list, and three `one` objects, from a single object list, tuple, and string. For example\n",
    "\n",
    "```python\n",
    "one_list = Eqint([1])\n",
    "one_tuple = Eqint((1,))\n",
    "one_string = Eqint('1')\n",
    "```\n",
    "\n",
    "Check that none of the `one` objects equal the zero object, but all equal the other `one` objects. Print each object to check that the representation gives the integer length."
   ]
  },
  {
   "cell_type": "markdown",
   "metadata": {},
   "source": [
    "#### Solution"
   ]
  },
  {
   "cell_type": "code",
   "execution_count": 39,
   "metadata": {
    "collapsed": false
   },
   "outputs": [
    {
     "name": "stdout",
     "output_type": "stream",
     "text": [
      "Is zero equivalent to one? False, False, False\n",
      "Is one equivalent to one? True, True, True.\n",
      "0\n",
      "1\n",
      "1\n",
      "1\n"
     ]
    }
   ],
   "source": [
    "zero = Eqint([])\n",
    "one_list = Eqint([1])\n",
    "one_tuple = Eqint((1,))\n",
    "one_string = Eqint('1')\n",
    "\n",
    "print(\"Is zero equivalent to one? {}, {}, {}\".format(zero == one_list, \n",
    "                                                     zero == one_tuple,\n",
    "                                                     zero == one_string))\n",
    "print(\"Is one equivalent to one? {}, {}, {}.\".format(one_list == one_tuple,\n",
    "                                                     one_list == one_string,\n",
    "                                                     one_tuple == one_string))\n",
    "print(zero)\n",
    "print(one_list)\n",
    "print(one_tuple)\n",
    "print(one_string)"
   ]
  },
  {
   "cell_type": "markdown",
   "metadata": {},
   "source": [
    "## Exercise 3\n",
    "\n",
    "Redefine the class by including an `__add__` method that combines the two sequences. That is, if `a` and `b` are `Eqint`s then `a+b` should return an `Eqint` defined from combining `a` and `b`s sequences.\n",
    "\n",
    "##### Note\n",
    "\n",
    "Adding two different *types* of sequences (eg, a list to a tuple) does not work, so it is better to either iterate over the sequences, or to convert to a uniform type before adding."
   ]
  },
  {
   "cell_type": "markdown",
   "metadata": {},
   "source": [
    "#### Solution"
   ]
  },
  {
   "cell_type": "code",
   "execution_count": 40,
   "metadata": {
    "collapsed": false
   },
   "outputs": [],
   "source": [
    "class Eqint(object):\n",
    "    \n",
    "    def __init__(self, sequence):\n",
    "        self.sequence = sequence\n",
    "        \n",
    "    def __repr__(self):\n",
    "        return str(len(self.sequence))\n",
    "    \n",
    "    def __eq__(self, other):\n",
    "        return len(self.sequence)==len(other.sequence)\n",
    "    \n",
    "    def __add__(a, b):\n",
    "        return Eqint(tuple(a.sequence) + tuple(b.sequence))"
   ]
  },
  {
   "cell_type": "markdown",
   "metadata": {},
   "source": [
    "## Exercise 4\n",
    "\n",
    "Check your addition function by adding together all your previous `Eqint` objects (which will need re-defining, as the class has been redefined). Print the resulting object to check you get `3`, and also print its internal sequence."
   ]
  },
  {
   "cell_type": "markdown",
   "metadata": {},
   "source": [
    "#### Solution"
   ]
  },
  {
   "cell_type": "code",
   "execution_count": 41,
   "metadata": {
    "collapsed": false
   },
   "outputs": [
    {
     "name": "stdout",
     "output_type": "stream",
     "text": [
      "The sum is 3.\n",
      "The internal sequence is (1, 1, '1').\n"
     ]
    }
   ],
   "source": [
    "zero = Eqint([])\n",
    "one_list = Eqint([1])\n",
    "one_tuple = Eqint((1,))\n",
    "one_string = Eqint('1')\n",
    "\n",
    "sum_eqint = zero + one_list + one_tuple + one_string\n",
    "print(\"The sum is {}.\".format(sum_eqint))\n",
    "print(\"The internal sequence is {}.\".format(sum_eqint.sequence))"
   ]
  },
  {
   "cell_type": "markdown",
   "metadata": {},
   "source": [
    "## Exercise 5\n",
    "\n",
    "We will sketch a construction of the positive integers from *nothing*.\n",
    "\n",
    "1. Define an empty list `positive_integers`.\n",
    "2. Define an `Eqint` called `zero` from the empty list. Append it to `positive_integers`.\n",
    "3. Define an `Eqint` called `next_integer` from the `Eqint` defined by *a copy of* `positive_integers` (ie, use `Eqint(list(positive_integers))`. Append it to `positive_integers`.\n",
    "4. Repeat step 3 as often as needed.\n",
    "\n",
    "Use this procedure to define the `Eqint` equivalent to $10$. Print it, and its internal sequence, to check."
   ]
  },
  {
   "cell_type": "markdown",
   "metadata": {},
   "source": [
    "#### Solution"
   ]
  },
  {
   "cell_type": "code",
   "execution_count": 42,
   "metadata": {
    "collapsed": false
   },
   "outputs": [
    {
     "name": "stdout",
     "output_type": "stream",
     "text": [
      "The 'final' Eqint is 10\n",
      "Its sequence is [0, 1, 2, 3, 4, 5, 6, 7, 8, 9]\n",
      "That is, it contains all Eqints with length less than 10.\n"
     ]
    }
   ],
   "source": [
    "positive_integers = []\n",
    "zero = Eqint([])\n",
    "positive_integers.append(zero)\n",
    "\n",
    "N = 10\n",
    "for n in range(1,N+1):\n",
    "    positive_integers.append(Eqint(list(positive_integers)))\n",
    "    \n",
    "print(\"The 'final' Eqint is {}\".format(positive_integers[-1]))\n",
    "print(\"Its sequence is {}\".format(positive_integers[-1].sequence))\n",
    "print(\"That is, it contains all Eqints with length less than 10.\")"
   ]
  },
  {
   "cell_type": "markdown",
   "metadata": {},
   "source": [
    "# Rational numbers"
   ]
  },
  {
   "cell_type": "markdown",
   "metadata": {},
   "source": [
    "Instead of working with floating point numbers, which are not \"exact\", we could work with the rational numbers $\\mathbb{Q}$. A rational number $q \\in \\mathbb{Q}$ is defined by the *numerator* $n$ and *denominator* $d$ as $q = \\frac{n}{d}$, where $n$ and $d$ are *coprime* (ie, have no common divisor other than $1$)."
   ]
  },
  {
   "cell_type": "markdown",
   "metadata": {},
   "source": [
    "## Exercise 1\n",
    "\n",
    "Find a python function that finds the greatest common divisor (`gcd`) of two numbers. Use this to write a function `normal_form` that takes a numerator and divisor and returns the coprime $n$ and $d$. Test this function on $q = \\frac{3}{2}$, $q = \\frac{15}{3}$, and $q = \\frac{20}{42}$."
   ]
  },
  {
   "cell_type": "markdown",
   "metadata": {},
   "source": [
    "#### Solution"
   ]
  },
  {
   "cell_type": "code",
   "execution_count": 43,
   "metadata": {
    "collapsed": true
   },
   "outputs": [],
   "source": [
    "def normal_form(numerator, denominator):\n",
    "    from fractions import gcd\n",
    "    \n",
    "    factor = gcd(numerator, denominator)\n",
    "    return numerator//factor, denominator//factor"
   ]
  },
  {
   "cell_type": "code",
   "execution_count": 44,
   "metadata": {
    "collapsed": false
   },
   "outputs": [
    {
     "name": "stdout",
     "output_type": "stream",
     "text": [
      "(3, 2)\n",
      "(5, 1)\n",
      "(10, 21)\n"
     ]
    }
   ],
   "source": [
    "print(normal_form(3, 2))\n",
    "print(normal_form(15, 3))\n",
    "print(normal_form(20, 42))"
   ]
  },
  {
   "cell_type": "markdown",
   "metadata": {},
   "source": [
    "## Exercise 2\n",
    "\n",
    "Define a class `Rational` that uses the `normal_form` function to store the rational number in the appropriate form. Define a `__repr__` function that prints a string that *looks like* $\\frac{n}{d}$ (**hint**: use `len(str(number))` to find the number of digits of an integer). Test it on the cases above."
   ]
  },
  {
   "cell_type": "markdown",
   "metadata": {},
   "source": [
    "#### Solution"
   ]
  },
  {
   "cell_type": "code",
   "execution_count": 45,
   "metadata": {
    "collapsed": true
   },
   "outputs": [],
   "source": [
    "class Rational(object):\n",
    "    \"\"\"\n",
    "    A rational number.\n",
    "    \"\"\"\n",
    "    \n",
    "    def __init__(self, numerator, denominator):\n",
    "        \n",
    "        n, d = normal_form(numerator, denominator)\n",
    "        \n",
    "        self.numerator = n\n",
    "        self.denominator = d\n",
    "        \n",
    "        return None\n",
    "    \n",
    "    def __repr__(self):\n",
    "        \n",
    "        max_length = max(len(str(self.numerator)), len(str(self.denominator)))\n",
    "        \n",
    "        if self.denominator == 1:\n",
    "            frac = str(self.numerator)\n",
    "        else:\n",
    "            numerator = str(self.numerator)+'\\n'\n",
    "            bar = max_length*'-'+'\\n'\n",
    "            denominator = str(self.denominator)\n",
    "            frac = numerator+bar+denominator\n",
    "        \n",
    "        return frac"
   ]
  },
  {
   "cell_type": "code",
   "execution_count": 46,
   "metadata": {
    "collapsed": false
   },
   "outputs": [
    {
     "name": "stdout",
     "output_type": "stream",
     "text": [
      "3\n",
      "-\n",
      "2\n",
      "5\n",
      "10\n",
      "--\n",
      "21\n"
     ]
    }
   ],
   "source": [
    "q1 = Rational(3, 2)\n",
    "print(q1)\n",
    "q2 = Rational(15, 3)\n",
    "print(q2)\n",
    "q3 = Rational(20, 42)\n",
    "print(q3)"
   ]
  },
  {
   "cell_type": "markdown",
   "metadata": {},
   "source": [
    "## Exercise 3\n",
    "\n",
    "Overload the `__add__` function so that you can add two rational numbers. Test it on $\\frac{1}{2} + \\frac{1}{3} + \\frac{1}{6} = 1$."
   ]
  },
  {
   "cell_type": "markdown",
   "metadata": {},
   "source": [
    "#### Solution"
   ]
  },
  {
   "cell_type": "code",
   "execution_count": 47,
   "metadata": {
    "collapsed": true
   },
   "outputs": [],
   "source": [
    "class Rational(object):\n",
    "    \"\"\"\n",
    "    A rational number.\n",
    "    \"\"\"\n",
    "    \n",
    "    def __init__(self, numerator, denominator):\n",
    "        \n",
    "        n, d = normal_form(numerator, denominator)\n",
    "        \n",
    "        self.numerator = n\n",
    "        self.denominator = d\n",
    "        \n",
    "        return None\n",
    "    \n",
    "    def __add__(a, b):\n",
    "        \n",
    "        numerator = a.numerator * b.denominator + b.numerator * a.denominator\n",
    "        denominator = a.denominator * b.denominator\n",
    "        return Rational(numerator, denominator)\n",
    "    \n",
    "    def __repr__(self):\n",
    "        \n",
    "        max_length = max(len(str(self.numerator)), len(str(self.denominator)))\n",
    "        \n",
    "        if self.denominator == 1:\n",
    "            frac = str(self.numerator)\n",
    "        else:\n",
    "            numerator = str(self.numerator)+'\\n'\n",
    "            bar = max_length*'-'+'\\n'\n",
    "            denominator = str(self.denominator)\n",
    "            frac = numerator+bar+denominator\n",
    "        \n",
    "        return frac"
   ]
  },
  {
   "cell_type": "code",
   "execution_count": 48,
   "metadata": {
    "collapsed": false
   },
   "outputs": [
    {
     "name": "stdout",
     "output_type": "stream",
     "text": [
      "1\n"
     ]
    }
   ],
   "source": [
    "print(Rational(1,2) + Rational(1,3) + Rational(1,6))"
   ]
  },
  {
   "cell_type": "markdown",
   "metadata": {},
   "source": [
    "## Exercise 4\n",
    "\n",
    "Overload the `__mul__` function so that you can multiply two rational numbers. Test it on $\\frac{1}{3} \\times \\frac{15}{2} \\times \\frac{2}{5} = 1$."
   ]
  },
  {
   "cell_type": "markdown",
   "metadata": {},
   "source": [
    "#### Solution"
   ]
  },
  {
   "cell_type": "code",
   "execution_count": 49,
   "metadata": {
    "collapsed": true
   },
   "outputs": [],
   "source": [
    "class Rational(object):\n",
    "    \"\"\"\n",
    "    A rational number.\n",
    "    \"\"\"\n",
    "    \n",
    "    def __init__(self, numerator, denominator):\n",
    "        \n",
    "        n, d = normal_form(numerator, denominator)\n",
    "        \n",
    "        self.numerator = n\n",
    "        self.denominator = d\n",
    "        \n",
    "        return None\n",
    "    \n",
    "    def __add__(a, b):\n",
    "        \n",
    "        numerator = a.numerator * b.denominator + b.numerator * a.denominator\n",
    "        denominator = a.denominator * b.denominator\n",
    "        return Rational(numerator, denominator)\n",
    "    \n",
    "    def __mul__(a, b):\n",
    "        \n",
    "        numerator = a.numerator * b.numerator\n",
    "        denominator = a.denominator * b.denominator\n",
    "        return Rational(numerator, denominator)\n",
    "    \n",
    "    def __repr__(self):\n",
    "        \n",
    "        max_length = max(len(str(self.numerator)), len(str(self.denominator)))\n",
    "        \n",
    "        if self.denominator == 1:\n",
    "            frac = str(self.numerator)\n",
    "        else:\n",
    "            numerator = str(self.numerator)+'\\n'\n",
    "            bar = max_length*'-'+'\\n'\n",
    "            denominator = str(self.denominator)\n",
    "            frac = numerator+bar+denominator\n",
    "        \n",
    "        return frac"
   ]
  },
  {
   "cell_type": "code",
   "execution_count": 50,
   "metadata": {
    "collapsed": false
   },
   "outputs": [
    {
     "name": "stdout",
     "output_type": "stream",
     "text": [
      "1\n"
     ]
    }
   ],
   "source": [
    "print(Rational(1,3)*Rational(15,2)*Rational(2,5))"
   ]
  },
  {
   "cell_type": "markdown",
   "metadata": {},
   "source": [
    "## Exercise 5\n",
    "\n",
    "Overload the [`__rmul__`](https://docs.python.org/2/reference/datamodel.html?highlight=rmul#object.__rmul__) function so that you can multiply a rational by an *integer*. Check that $\\frac{1}{2} \\times 2 = 1$ and $\\frac{1}{2} + (-1) \\times \\frac{1}{2} = 0$. Also overload the `__sub__` function (using previous functions!) so that you can subtract rational numbers and check that $\\frac{1}{2} - \\frac{1}{2} = 0$."
   ]
  },
  {
   "cell_type": "markdown",
   "metadata": {},
   "source": [
    "#### Solution"
   ]
  },
  {
   "cell_type": "code",
   "execution_count": 51,
   "metadata": {
    "collapsed": true
   },
   "outputs": [],
   "source": [
    "class Rational(object):\n",
    "    \"\"\"\n",
    "    A rational number.\n",
    "    \"\"\"\n",
    "    \n",
    "    def __init__(self, numerator, denominator):\n",
    "        \n",
    "        n, d = normal_form(numerator, denominator)\n",
    "        \n",
    "        self.numerator = n\n",
    "        self.denominator = d\n",
    "        \n",
    "        return None\n",
    "    \n",
    "    def __add__(a, b):\n",
    "        \n",
    "        numerator = a.numerator * b.denominator + b.numerator * a.denominator\n",
    "        denominator = a.denominator * b.denominator\n",
    "        return Rational(numerator, denominator)\n",
    "    \n",
    "    def __mul__(a, b):\n",
    "        \n",
    "        numerator = a.numerator * b.numerator\n",
    "        denominator = a.denominator * b.denominator\n",
    "        return Rational(numerator, denominator)\n",
    "    \n",
    "    def __rmul__(self, other):\n",
    "        \n",
    "        numerator = self.numerator * other\n",
    "        return Rational(numerator, self.denominator)\n",
    "    \n",
    "    def __sub__(a, b):\n",
    "        \n",
    "        return a + (-1)*b\n",
    "    \n",
    "    def __repr__(self):\n",
    "        \n",
    "        max_length = max(len(str(self.numerator)), len(str(self.denominator)))\n",
    "        \n",
    "        if self.denominator == 1:\n",
    "            frac = str(self.numerator)\n",
    "        else:\n",
    "            numerator = str(self.numerator)+'\\n'\n",
    "            bar = max_length*'-'+'\\n'\n",
    "            denominator = str(self.denominator)\n",
    "            frac = numerator+bar+denominator\n",
    "        \n",
    "        return frac"
   ]
  },
  {
   "cell_type": "code",
   "execution_count": 52,
   "metadata": {
    "collapsed": false
   },
   "outputs": [
    {
     "name": "stdout",
     "output_type": "stream",
     "text": [
      "1\n",
      "0\n",
      "0\n"
     ]
    }
   ],
   "source": [
    "half = Rational(1,2)\n",
    "print(2*half)\n",
    "print(half+(-1)*half)\n",
    "print(half-half)"
   ]
  },
  {
   "cell_type": "markdown",
   "metadata": {},
   "source": [
    "## Exercise 6\n",
    "\n",
    "Overload the `__float__` function so that `float(q)` returns the floating point approximation to the rational number `q`. Test this on $\\frac{1}{2}, \\frac{1}{3}$, and $\\frac{1}{11}$."
   ]
  },
  {
   "cell_type": "markdown",
   "metadata": {},
   "source": [
    "#### Solution"
   ]
  },
  {
   "cell_type": "code",
   "execution_count": 53,
   "metadata": {
    "collapsed": true
   },
   "outputs": [],
   "source": [
    "class Rational(object):\n",
    "    \"\"\"\n",
    "    A rational number.\n",
    "    \"\"\"\n",
    "    \n",
    "    def __init__(self, numerator, denominator):\n",
    "        \n",
    "        n, d = normal_form(numerator, denominator)\n",
    "        \n",
    "        self.numerator = n\n",
    "        self.denominator = d\n",
    "        \n",
    "        return None\n",
    "    \n",
    "    def __add__(a, b):\n",
    "        \n",
    "        numerator = a.numerator * b.denominator + b.numerator * a.denominator\n",
    "        denominator = a.denominator * b.denominator\n",
    "        return Rational(numerator, denominator)\n",
    "    \n",
    "    def __mul__(a, b):\n",
    "        \n",
    "        numerator = a.numerator * b.numerator\n",
    "        denominator = a.denominator * b.denominator\n",
    "        return Rational(numerator, denominator)\n",
    "    \n",
    "    def __rmul__(self, other):\n",
    "        \n",
    "        numerator = self.numerator * other\n",
    "        return Rational(numerator, self.denominator)\n",
    "    \n",
    "    def __sub__(a, b):\n",
    "        \n",
    "        return a + (-1)*b\n",
    "    \n",
    "    def __float__(a):\n",
    "        \n",
    "        return float(a.numerator) / float(a.denominator)\n",
    "    \n",
    "    def __repr__(self):\n",
    "        \n",
    "        max_length = max(len(str(self.numerator)), len(str(self.denominator)))\n",
    "        \n",
    "        if self.denominator == 1:\n",
    "            frac = str(self.numerator)\n",
    "        else:\n",
    "            numerator = str(self.numerator)+'\\n'\n",
    "            bar = max_length*'-'+'\\n'\n",
    "            denominator = str(self.denominator)\n",
    "            frac = numerator+bar+denominator\n",
    "        \n",
    "        return frac"
   ]
  },
  {
   "cell_type": "code",
   "execution_count": 54,
   "metadata": {
    "collapsed": false
   },
   "outputs": [
    {
     "name": "stdout",
     "output_type": "stream",
     "text": [
      "0.5\n",
      "0.3333333333333333\n",
      "0.09090909090909091\n"
     ]
    }
   ],
   "source": [
    "print(float(Rational(1,2)))\n",
    "print(float(Rational(1,3)))\n",
    "print(float(Rational(1,11)))"
   ]
  },
  {
   "cell_type": "markdown",
   "metadata": {},
   "source": [
    "## Exercise 7\n",
    "\n",
    "Overload the `__lt__` function to compare two rational numbers. Create a list of rational numbers where the denominator is $n = 2, \\dots, 11$ and the numerator is the floored integer $n/2$, ie `n//2`. Use the `sorted` function on that list (which relies on the `__lt__` function)."
   ]
  },
  {
   "cell_type": "markdown",
   "metadata": {},
   "source": [
    "#### Solution"
   ]
  },
  {
   "cell_type": "code",
   "execution_count": 55,
   "metadata": {
    "collapsed": true
   },
   "outputs": [],
   "source": [
    "class Rational(object):\n",
    "    \"\"\"\n",
    "    A rational number.\n",
    "    \"\"\"\n",
    "    \n",
    "    def __init__(self, numerator, denominator):\n",
    "        \n",
    "        n, d = normal_form(numerator, denominator)\n",
    "        \n",
    "        self.numerator = n\n",
    "        self.denominator = d\n",
    "        \n",
    "        return None\n",
    "    \n",
    "    def __add__(a, b):\n",
    "        \n",
    "        numerator = a.numerator * b.denominator + b.numerator * a.denominator\n",
    "        denominator = a.denominator * b.denominator\n",
    "        return Rational(numerator, denominator)\n",
    "    \n",
    "    def __mul__(a, b):\n",
    "        \n",
    "        numerator = a.numerator * b.numerator\n",
    "        denominator = a.denominator * b.denominator\n",
    "        return Rational(numerator, denominator)\n",
    "    \n",
    "    def __rmul__(self, other):\n",
    "        \n",
    "        numerator = self.numerator * other\n",
    "        return Rational(numerator, self.denominator)\n",
    "    \n",
    "    def __sub__(a, b):\n",
    "        \n",
    "        return a + (-1)*b\n",
    "    \n",
    "    def __float__(a):\n",
    "        \n",
    "        return float(a.numerator) / float(a.denominator)\n",
    "    \n",
    "    def __lt__(a, b):\n",
    "        \n",
    "        return a.numerator * b.denominator < a.denominator * b.numerator\n",
    "    \n",
    "    def __repr__(self):\n",
    "        \n",
    "        max_length = max(len(str(self.numerator)), len(str(self.denominator)))\n",
    "        \n",
    "        if self.denominator == 1:\n",
    "            frac = str(self.numerator)\n",
    "        else:\n",
    "            numerator = '\\n'+str(self.numerator)+'\\n'\n",
    "            bar = max_length*'-'+'\\n'\n",
    "            denominator = str(self.denominator)\n",
    "            frac = numerator+bar+denominator\n",
    "        \n",
    "        return frac"
   ]
  },
  {
   "cell_type": "code",
   "execution_count": 56,
   "metadata": {
    "collapsed": false
   },
   "outputs": [
    {
     "name": "stdout",
     "output_type": "stream",
     "text": [
      "[\n",
      "1\n",
      "-\n",
      "3, \n",
      "2\n",
      "-\n",
      "5, \n",
      "3\n",
      "-\n",
      "7, \n",
      "4\n",
      "-\n",
      "9, \n",
      "5\n",
      "--\n",
      "11, \n",
      "1\n",
      "-\n",
      "2, \n",
      "1\n",
      "-\n",
      "2, \n",
      "1\n",
      "-\n",
      "2, \n",
      "1\n",
      "-\n",
      "2, \n",
      "1\n",
      "-\n",
      "2]\n"
     ]
    }
   ],
   "source": [
    "q_list = [Rational(n//2, n) for n in range(2, 12)]\n",
    "print(sorted(q_list))"
   ]
  },
  {
   "cell_type": "markdown",
   "metadata": {},
   "source": [
    "## Exercise 8\n",
    "\n",
    "The [Wallis formula for $\\pi$](http://mathworld.wolfram.com/WallisFormula.html) is\n",
    "\n",
    "\\begin{equation}\n",
    "  \\pi = 2 \\prod_{n=1}^{\\infty} \\frac{ (2 n)^2 }{(2 n - 1) (2 n + 1)}.\n",
    "\\end{equation}\n",
    "\n",
    "We can define a partial product $\\pi_N$ as\n",
    "\n",
    "\\begin{equation}\n",
    "  \\pi_N = 2 \\prod_{n=1}^{N} \\frac{ (2 n)^2 }{(2 n - 1) (2 n + 1)},\n",
    "\\end{equation}\n",
    "\n",
    "each of which are rational numbers.\n",
    "\n",
    "Construct a list of the first 20 rational number approximations to $\\pi$ and print them out. Print the sorted list to show that the approximations are always increasing. Then convert them to floating point numbers, construct a `numpy` array, and subtract this array from $\\pi$ to see how accurate they are."
   ]
  },
  {
   "cell_type": "markdown",
   "metadata": {},
   "source": [
    "#### Solution"
   ]
  },
  {
   "cell_type": "code",
   "execution_count": 57,
   "metadata": {
    "collapsed": true
   },
   "outputs": [],
   "source": [
    "def wallis_rational(N):\n",
    "    \"\"\"\n",
    "    The partial product approximation to pi using the first N terms of Wallis' formula.\n",
    "    \n",
    "    Parameters\n",
    "    ----------\n",
    "    \n",
    "    N : int\n",
    "        Number of terms in product\n",
    "        \n",
    "    Returns\n",
    "    -------\n",
    "    \n",
    "    partial : Rational\n",
    "        A rational number approximation to pi\n",
    "    \"\"\"\n",
    "    \n",
    "    partial = Rational(2,1)\n",
    "    for n in range(1, N+1):\n",
    "        partial = partial * Rational((2*n)**2, (2*n-1)*(2*n+1))\n",
    "    return partial"
   ]
  },
  {
   "cell_type": "code",
   "execution_count": 58,
   "metadata": {
    "collapsed": false
   },
   "outputs": [
    {
     "name": "stdout",
     "output_type": "stream",
     "text": [
      "[\n",
      "8\n",
      "-\n",
      "3, \n",
      "128\n",
      "---\n",
      "45, \n",
      "512\n",
      "---\n",
      "175, \n",
      "32768\n",
      "-----\n",
      "11025, \n",
      "131072\n",
      "------\n",
      "43659, \n",
      "2097152\n",
      "-------\n",
      "693693, \n",
      "8388608\n",
      "-------\n",
      "2760615, \n",
      "2147483648\n",
      "----------\n",
      "703956825, \n",
      "8589934592\n",
      "----------\n",
      "2807136475, \n",
      "137438953472\n",
      "------------\n",
      "44801898141, \n",
      "549755813888\n",
      "------------\n",
      "178837328943, \n",
      "35184372088832\n",
      "--------------\n",
      "11425718238025, \n",
      "140737488355328\n",
      "---------------\n",
      "45635265151875, \n",
      "2251799813685248\n",
      "----------------\n",
      "729232910488125, \n",
      "9007199254740992\n",
      "----------------\n",
      "2913690606794775, \n",
      "9223372036854775808\n",
      "-------------------\n",
      "2980705490751054825, \n",
      "36893488147419103232\n",
      "--------------------\n",
      "11912508103174630875, \n",
      "590295810358705651712\n",
      "---------------------\n",
      "190453061649520333125, \n",
      "2361183241434822606848\n",
      "----------------------\n",
      "761284675790187924375, \n",
      "151115727451828646838272\n",
      "------------------------\n",
      "48691767863540419643025]\n",
      "[\n",
      "8\n",
      "-\n",
      "3, \n",
      "128\n",
      "---\n",
      "45, \n",
      "512\n",
      "---\n",
      "175, \n",
      "32768\n",
      "-----\n",
      "11025, \n",
      "131072\n",
      "------\n",
      "43659, \n",
      "2097152\n",
      "-------\n",
      "693693, \n",
      "8388608\n",
      "-------\n",
      "2760615, \n",
      "2147483648\n",
      "----------\n",
      "703956825, \n",
      "8589934592\n",
      "----------\n",
      "2807136475, \n",
      "137438953472\n",
      "------------\n",
      "44801898141, \n",
      "549755813888\n",
      "------------\n",
      "178837328943, \n",
      "35184372088832\n",
      "--------------\n",
      "11425718238025, \n",
      "140737488355328\n",
      "---------------\n",
      "45635265151875, \n",
      "2251799813685248\n",
      "----------------\n",
      "729232910488125, \n",
      "9007199254740992\n",
      "----------------\n",
      "2913690606794775, \n",
      "9223372036854775808\n",
      "-------------------\n",
      "2980705490751054825, \n",
      "36893488147419103232\n",
      "--------------------\n",
      "11912508103174630875, \n",
      "590295810358705651712\n",
      "---------------------\n",
      "190453061649520333125, \n",
      "2361183241434822606848\n",
      "----------------------\n",
      "761284675790187924375, \n",
      "151115727451828646838272\n",
      "------------------------\n",
      "48691767863540419643025]\n"
     ]
    }
   ],
   "source": [
    "pi_list = [wallis_rational(n) for n in range(1, 21)]\n",
    "print(pi_list)\n",
    "print(sorted(pi_list))"
   ]
  },
  {
   "cell_type": "code",
   "execution_count": 59,
   "metadata": {
    "collapsed": false
   },
   "outputs": [
    {
     "name": "stdout",
     "output_type": "stream",
     "text": [
      "[ 0.47492599  0.29714821  0.21587837  0.16943846  0.1394167   0.11842246\n",
      "  0.10291902  0.09100266  0.08155811  0.07388885  0.06753749  0.06219131\n",
      "  0.05762923  0.05369058  0.05025576  0.04723393  0.04455483  0.0421633\n",
      "  0.04001539  0.03807569]\n"
     ]
    }
   ],
   "source": [
    "import numpy\n",
    "print(numpy.pi-numpy.array(list(map(float, pi_list))))"
   ]
  },
  {
   "cell_type": "markdown",
   "metadata": {},
   "source": [
    "# The shortest published Mathematical paper"
   ]
  },
  {
   "cell_type": "markdown",
   "metadata": {},
   "source": [
    "A [candidate for the shortest mathematical paper ever](http://www.ams.org/journals/bull/1966-72-06/S0002-9904-1966-11654-3/S0002-9904-1966-11654-3.pdf) shows the following result:\n",
    "\n",
    "\\begin{equation}\n",
    "  27^5 + 84^5 + 110^5 + 133^5 = 144^5.\n",
    "\\end{equation}\n",
    "\n",
    "This is interesting as\n",
    "\n",
    "> This is a counterexample to a conjecture by Euler ... that at least $n$ $n$th powers are required to sum to an $n$th power, $n > 2$."
   ]
  },
  {
   "cell_type": "markdown",
   "metadata": {},
   "source": [
    "## Exercise 1\n",
    "\n",
    "Using python, check the equation above is true."
   ]
  },
  {
   "cell_type": "markdown",
   "metadata": {},
   "source": [
    "#### Solution"
   ]
  },
  {
   "cell_type": "code",
   "execution_count": 60,
   "metadata": {
    "collapsed": false
   },
   "outputs": [
    {
     "name": "stdout",
     "output_type": "stream",
     "text": [
      "Does the LHS 61917364224 equal the RHS 61917364224? True\n"
     ]
    }
   ],
   "source": [
    "lhs = 27**5 + 84**5 + 110**5 + 133**5\n",
    "rhs = 144**5\n",
    "\n",
    "print(\"Does the LHS {} equal the RHS {}? {}\".format(lhs, rhs, lhs==rhs))"
   ]
  },
  {
   "cell_type": "markdown",
   "metadata": {},
   "source": [
    "## Exercise 2\n",
    "\n",
    "The more interesting statement in the paper is that\n",
    "\n",
    "\\begin{equation}\n",
    "  27^5 + 84^5 + 110^5 + 133^5 = 144^5.\n",
    "\\end{equation}\n",
    "\n",
    "> [is] the smallest instance in which four fifth powers sum to a fifth power.\n",
    "\n",
    "Interpreting \"the smallest instance\" to mean the solution where the right hand side term (the largest integer) is the smallest, we want to use python to check this statement.\n",
    "\n",
    "You may find the `combinations` function from the `itertools` package useful."
   ]
  },
  {
   "cell_type": "code",
   "execution_count": 61,
   "metadata": {
    "collapsed": true
   },
   "outputs": [],
   "source": [
    "import numpy\n",
    "import itertools"
   ]
  },
  {
   "cell_type": "markdown",
   "metadata": {},
   "source": [
    "The `combinations` function returns all the combinations (ignoring order) of `r` elements from a given list. For example, take a list of length 6, `[1, 2, 3, 4, 5, 6]` and compute all the combinations of length 4:"
   ]
  },
  {
   "cell_type": "code",
   "execution_count": 62,
   "metadata": {
    "collapsed": false
   },
   "outputs": [
    {
     "name": "stdout",
     "output_type": "stream",
     "text": [
      "[(1, 2, 3, 4), (1, 2, 3, 5), (1, 2, 3, 6), (1, 2, 4, 5), (1, 2, 4, 6), (1, 2, 5, 6), (1, 3, 4, 5), (1, 3, 4, 6), (1, 3, 5, 6), (1, 4, 5, 6), (2, 3, 4, 5), (2, 3, 4, 6), (2, 3, 5, 6), (2, 4, 5, 6), (3, 4, 5, 6)]\n"
     ]
    }
   ],
   "source": [
    "input_list = numpy.arange(1, 7)\n",
    "combinations = list(itertools.combinations(input_list, 4))\n",
    "print(combinations)"
   ]
  },
  {
   "cell_type": "markdown",
   "metadata": {},
   "source": [
    "We can already see that the number of terms to consider is large.\n",
    "\n",
    "Note that we have used the `list` function to explicitly get a list of the combinations. The `combinations` function returns a *generator*, which can be used in a loop as if it were a list, without storing all elements of the list."
   ]
  },
  {
   "cell_type": "markdown",
   "metadata": {},
   "source": [
    "How fast does the number of combinations grow? The standard formula says that for a list of length $n$ there are\n",
    "\n",
    "\\begin{equation}\n",
    "  \\begin{pmatrix} n \\\\ k \\end{pmatrix} = \\frac{n!}{k! (n-k)!}\n",
    "\\end{equation}\n",
    "\n",
    "combinations of length $k$. For $k=4$ as needed here we will have $n (n-1) (n-2) (n-3) / 24$ combinations. For $n=144$ we therefore have"
   ]
  },
  {
   "cell_type": "code",
   "execution_count": 63,
   "metadata": {
    "collapsed": false
   },
   "outputs": [
    {
     "name": "stdout",
     "output_type": "stream",
     "text": [
      "Number of combinations of 4 objects from 144 is 17178876.0\n"
     ]
    }
   ],
   "source": [
    "n_combinations = 144*143*142*141/24\n",
    "print(\"Number of combinations of 4 objects from 144 is {}\".format(n_combinations))"
   ]
  },
  {
   "cell_type": "markdown",
   "metadata": {},
   "source": [
    "### Exercise 2a\n",
    "\n",
    "Show, by getting python to compute the number of combinations $N = \\begin{pmatrix} n \\\\ 4 \\end{pmatrix}$ that $N$ grows roughly as $n^4$. To do this, plot the number of combinations and $n^4$ on a log-log scale. Restrict to $n \\le 50$."
   ]
  },
  {
   "cell_type": "markdown",
   "metadata": {},
   "source": [
    "#### Solution"
   ]
  },
  {
   "cell_type": "code",
   "execution_count": 64,
   "metadata": {
    "collapsed": true
   },
   "outputs": [],
   "source": [
    "from matplotlib import pyplot\n",
    "%matplotlib inline"
   ]
  },
  {
   "cell_type": "code",
   "execution_count": 65,
   "metadata": {
    "collapsed": true
   },
   "outputs": [],
   "source": [
    "n = numpy.arange(5, 51)\n",
    "N = numpy.zeros_like(n)\n",
    "for i, n_c in enumerate(n):\n",
    "    combinations = list(itertools.combinations(numpy.arange(1,n_c+1), 4))\n",
    "    N[i] = len(combinations)"
   ]
  },
  {
   "cell_type": "code",
   "execution_count": 66,
   "metadata": {
    "collapsed": false
   },
   "outputs": [
    {
     "data": {
      "image/png": "[encoded data removed]",
      "text/plain": [
       "<matplotlib.figure.Figure at 0x10727d2b0>"
      ]
     },
     "metadata": {},
     "output_type": "display_data"
    }
   ],
   "source": [
    "pyplot.figure(figsize=(12,6))\n",
    "pyplot.loglog(n, N, linestyle='None', marker='x', color='k', label='Combinations')\n",
    "pyplot.loglog(n, n**4, color='b', label=r'$n^4$')\n",
    "pyplot.xlabel(r'$n$')\n",
    "pyplot.ylabel(r'$N$')\n",
    "pyplot.legend(loc='upper left')\n",
    "pyplot.show()"
   ]
  },
  {
   "cell_type": "markdown",
   "metadata": {},
   "source": [
    "With 17 million combinations to work with, we'll need to be a little careful how we compute."
   ]
  },
  {
   "cell_type": "markdown",
   "metadata": {},
   "source": [
    "One thing we could try is to loop through each possible \"smallest instance\" (the term on the right hand side) in increasing order. We then check all possible combinations of left hand sides.\n",
    "\n",
    "This is computationally *very expensive* as we repeat a lot of calculations. We repeatedly recalculate combinations (a bad idea). We repeatedly recalculate the powers of the same number.\n",
    "\n",
    "Instead, let us try creating the list of all combinations of powers once."
   ]
  },
  {
   "cell_type": "markdown",
   "metadata": {},
   "source": [
    "### Exercise 2b\n",
    "\n",
    "1. Construct a `numpy` array containing all integers in $1, \\dots, 144$ to the fifth power. \n",
    "2. Construct a list of all combinations of four elements from this array.\n",
    "3. Construct a list of sums of all these combinations.\n",
    "4. Loop over one list and check if the entry appears in the other list (ie, use the `in` keyword)."
   ]
  },
  {
   "cell_type": "markdown",
   "metadata": {},
   "source": [
    "#### Solution"
   ]
  },
  {
   "cell_type": "code",
   "execution_count": 67,
   "metadata": {
    "collapsed": true
   },
   "outputs": [],
   "source": [
    "nmax=145\n",
    "range_to_power = numpy.arange(1, nmax)**5.0\n",
    "lhs_combinations = list(itertools.combinations(range_to_power, 4))"
   ]
  },
  {
   "cell_type": "markdown",
   "metadata": {},
   "source": [
    "Then calculate the sums:"
   ]
  },
  {
   "cell_type": "code",
   "execution_count": 68,
   "metadata": {
    "collapsed": true
   },
   "outputs": [],
   "source": [
    "lhs_sums = []\n",
    "for lhs_terms in lhs_combinations:\n",
    "    lhs_sums.append(numpy.sum(numpy.array(lhs_terms)))"
   ]
  },
  {
   "cell_type": "markdown",
   "metadata": {},
   "source": [
    "Finally, loop through the sums and check to see if it matches any possible term on the RHS:"
   ]
  },
  {
   "cell_type": "code",
   "execution_count": 69,
   "metadata": {
    "collapsed": false
   },
   "outputs": [
    {
     "name": "stdout",
     "output_type": "stream",
     "text": [
      "The LHS terms are [ 27  84 110 133].\n",
      "The RHS term is 144.\n"
     ]
    }
   ],
   "source": [
    "for i, lhs in enumerate(lhs_sums):\n",
    "    if lhs in range_to_power:\n",
    "        rhs_primitive = int(lhs**(0.2))\n",
    "        lhs_primitive = (numpy.array(lhs_combinations[i])**(0.2)).astype(int)\n",
    "        print(\"The LHS terms are {}.\".format(lhs_primitive))\n",
    "        print(\"The RHS term is {}.\".format(rhs_primitive))"
   ]
  },
  {
   "cell_type": "markdown",
   "metadata": {},
   "source": [
    "# Lorenz attractor"
   ]
  },
  {
   "cell_type": "markdown",
   "metadata": {},
   "source": [
    "The Lorenz system is a set of ordinary differential equations which can be written\n",
    "\n",
    "\\begin{equation}\n",
    "  \\frac{\\text{d} \\vec{v}}{\\text{d} \\vec{t}} = \\vec{f}(\\vec{v})\n",
    "\\end{equation}\n",
    "\n",
    "where the variables in the state vector $\\vec{v}$ are\n",
    "\n",
    "\\begin{equation}\n",
    "  \\vec{v} = \\begin{pmatrix} x(t) \\\\ y(t) \\\\ z(t) \\end{pmatrix}\n",
    "\\end{equation}\n",
    "\n",
    "and the function defining the ODE is\n",
    "\n",
    "\\begin{equation}\n",
    "  \\vec{f} = \\begin{pmatrix} \\sigma \\left( y(t) - x(t) \\right) \\\\ x(t) \\left( \\rho - z(t) \\right) - y(t) \\\\ x(t) y(t) - \\beta z(t) \\end{pmatrix}.\n",
    "\\end{equation}\n",
    "\n",
    "The parameters $\\sigma, \\rho, \\beta$ are all real numbers."
   ]
  },
  {
   "cell_type": "markdown",
   "metadata": {},
   "source": [
    "## Exercise 1\n",
    "\n",
    "Write a function `dvdt(v, t, params)` that returns $\\vec{f}$ given $\\vec{v}, t$ and the parameters $\\sigma, \\rho, \\beta$."
   ]
  },
  {
   "cell_type": "markdown",
   "metadata": {},
   "source": [
    "#### Solution"
   ]
  },
  {
   "cell_type": "code",
   "execution_count": 70,
   "metadata": {
    "collapsed": true
   },
   "outputs": [],
   "source": [
    "def dvdt(v, t, sigma, rho, beta):\n",
    "    \"\"\"\n",
    "    Define the Lorenz system.\n",
    "    \n",
    "    Parameters\n",
    "    ----------\n",
    "    \n",
    "    v : list\n",
    "        State vector\n",
    "    t : float\n",
    "        Time\n",
    "    sigma : float\n",
    "        Parameter\n",
    "    rho : float\n",
    "        Parameter\n",
    "    beta : float\n",
    "        Parameter\n",
    "    \n",
    "    Returns\n",
    "    -------\n",
    "    \n",
    "    dvdt : list\n",
    "        RHS defining the Lorenz system\n",
    "    \"\"\"\n",
    "    \n",
    "    x, y, z = v\n",
    "    \n",
    "    return [sigma*(y-x), x*(rho-z)-y, x*y-beta*z]"
   ]
  },
  {
   "cell_type": "markdown",
   "metadata": {},
   "source": [
    "## Exercise 2\n",
    "\n",
    "Fix $\\sigma=10, \\beta=8/3$. Set initial data to be $\\vec{v}(0) = \\vec{1}$. Using `scipy`, specifically the `odeint` function of `scipy.integrate`, solve the Lorenz system up to $t=100$ for $\\rho=13, 14, 15$ and $28$.\n",
    "\n",
    "Plot your results in 3d, plotting $x, y, z$."
   ]
  },
  {
   "cell_type": "markdown",
   "metadata": {},
   "source": [
    "#### Solution"
   ]
  },
  {
   "cell_type": "code",
   "execution_count": 71,
   "metadata": {
    "collapsed": true
   },
   "outputs": [],
   "source": [
    "import numpy\n",
    "from scipy.integrate import odeint"
   ]
  },
  {
   "cell_type": "code",
   "execution_count": 72,
   "metadata": {
    "collapsed": false
   },
   "outputs": [],
   "source": [
    "v0 = [1.0, 1.0, 1.0]\n",
    "sigma = 10.0\n",
    "beta = 8.0/3.0\n",
    "t_values = numpy.linspace(0.0, 100.0, 5000)\n",
    "rho_values = [13.0, 14.0, 15.0, 28.0]\n",
    "v_values = []\n",
    "for rho in rho_values:\n",
    "    params = (sigma, rho, beta)\n",
    "    v = odeint(dvdt, v0, t_values, args=params)\n",
    "    v_values.append(v)"
   ]
  },
  {
   "cell_type": "code",
   "execution_count": 73,
   "metadata": {
    "collapsed": true
   },
   "outputs": [],
   "source": [
    "%matplotlib inline\n",
    "from matplotlib import pyplot\n",
    "from mpl_toolkits.mplot3d.axes3d import Axes3D"
   ]
  },
  {
   "cell_type": "code",
   "execution_count": 74,
   "metadata": {
    "collapsed": false
   },
   "outputs": [
    {
     "data": {
      "image/png": "[encoded data removed]",
      "text/plain": [
       "<matplotlib.figure.Figure at 0x1097a77b8>"
      ]
     },
     "metadata": {},
     "output_type": "display_data"
    }
   ],
   "source": [
    "fig = pyplot.figure(figsize=(12,6))\n",
    "for i, v in enumerate(v_values):\n",
    "    ax = fig.add_subplot(2,2,i+1,projection='3d')\n",
    "    ax.plot(v[:,0], v[:,1], v[:,2])\n",
    "    ax.set_xlabel(r'$x$')\n",
    "    ax.set_ylabel(r'$y$')\n",
    "    ax.set_zlabel(r'$z$')\n",
    "    ax.set_title(r\"$\\rho={}$\".format(rho_values[i]))\n",
    "pyplot.show()"
   ]
  },
  {
   "cell_type": "markdown",
   "metadata": {},
   "source": [
    "## Exercise 3\n",
    "\n",
    "Fix $\\rho = 28$. Solve the Lorenz system twice, up to $t=40$, using the two different initial conditions $\\vec{v}(0) = \\vec{1}$ and $\\vec{v}(0) = \\vec{1} + \\vec{10^{-5}}$.\n",
    "\n",
    "Show four plots. Each plot should show the two solutions on the same axes, plotting $x, y$ and $z$. Each plot should show $10$ units of time, ie the first shows $t \\in [0, 10]$, the second shows $t \\in [10, 20]$, and so on."
   ]
  },
  {
   "cell_type": "markdown",
   "metadata": {},
   "source": [
    "#### Solution"
   ]
  },
  {
   "cell_type": "code",
   "execution_count": 75,
   "metadata": {
    "collapsed": true
   },
   "outputs": [],
   "source": [
    "t_values = numpy.linspace(0.0, 40.0, 4000)\n",
    "rho = 28.0\n",
    "params = (sigma, rho, beta)\n",
    "v_values = []\n",
    "v0_values = [[1.0,1.0,1.0],\n",
    "             [1.0+1e-5,1.0+1e-5,1.0+1e-5]]\n",
    "for v0 in v0_values:\n",
    "    v = odeint(dvdt, v0, t_values, args=params)\n",
    "    v_values.append(v)"
   ]
  },
  {
   "cell_type": "code",
   "execution_count": 76,
   "metadata": {
    "collapsed": false
   },
   "outputs": [
    {
     "data": {
      "image/png": "[encoded data removed]",
      "text/plain": [
       "<matplotlib.figure.Figure at 0x1897b61d0>"
      ]
     },
     "metadata": {},
     "output_type": "display_data"
    }
   ],
   "source": [
    "fig = pyplot.figure(figsize=(12,6))\n",
    "line_colours = 'by'\n",
    "for tstart in range(4):\n",
    "    ax = fig.add_subplot(2,2,tstart+1,projection='3d')\n",
    "    for i, v in enumerate(v_values):\n",
    "        ax.plot(v[tstart*1000:(tstart+1)*1000,0], \n",
    "                v[tstart*1000:(tstart+1)*1000,1], \n",
    "                v[tstart*1000:(tstart+1)*1000,2], \n",
    "                color=line_colours[i])\n",
    "    ax.set_xlabel(r'$x$')\n",
    "    ax.set_ylabel(r'$y$')\n",
    "    ax.set_zlabel(r'$z$')\n",
    "    ax.set_title(r\"$t \\in [{},{}]$\".format(tstart*10, (tstart+1)*10))\n",
    "pyplot.show()"
   ]
  },
  {
   "cell_type": "markdown",
   "metadata": {},
   "source": [
    "This shows the *sensitive dependence on initial conditions* that is characteristic of chaotic behaviour."
   ]
  },
  {
   "cell_type": "markdown",
   "metadata": {},
   "source": [
    "# Systematic ODE solving with sympy"
   ]
  },
  {
   "cell_type": "markdown",
   "metadata": {},
   "source": [
    "We are interested in the solution of\n",
    "\n",
    "\\begin{equation}\n",
    "  \\frac{\\text{d} y}{\\text{d} t} = e^{-t} - y^n, \\qquad y(0) = 1,\n",
    "\\end{equation}\n",
    "\n",
    "where $n > 1$ is an integer. The \"minor\" change from the above examples mean that `sympy` can only give the solution as a power series."
   ]
  },
  {
   "cell_type": "markdown",
   "metadata": {},
   "source": [
    "## Exercise 1\n",
    "\n",
    "Compute the general solution as a power series for $n = 2$."
   ]
  },
  {
   "cell_type": "markdown",
   "metadata": {},
   "source": [
    "#### Solution"
   ]
  },
  {
   "cell_type": "code",
   "execution_count": 77,
   "metadata": {
    "collapsed": true
   },
   "outputs": [],
   "source": [
    "import sympy\n",
    "sympy.init_printing()"
   ]
  },
  {
   "cell_type": "code",
   "execution_count": 78,
   "metadata": {
    "collapsed": true
   },
   "outputs": [],
   "source": [
    "y, t = sympy.symbols('y, t')"
   ]
  },
  {
   "cell_type": "code",
   "execution_count": 79,
   "metadata": {
    "collapsed": false
   },
   "outputs": [
    {
     "data": {
      "image/png": "[encoded data removed]",
      "text/latex": [
       "$$y{\\left (t \\right )} = \\frac{t^{2}}{2} \\left(C_{1} - 1\\right) + \\frac{t^{3}}{6} \\left(2 C_{1} + 1\\right) + \\frac{t^{4}}{24} \\left(C_{1} \\left(5 C_{1} + 1\\right) + C_{1} + 3\\right) + \\frac{t^{5}}{120} \\left(3 C_{1} \\left(- 6 C_{1} + 5\\right) - 8 C_{1} - 9\\right) + C_{1} + C_{1} t + \\mathcal{O}\\left(t^{6}\\right)$$"
      ],
      "text/plain": [
       "        2             3               4                             5         \n",
       "       t ⋅(C₁ - 1)   t ⋅(2⋅C₁ + 1)   t ⋅(C₁⋅(5⋅C₁ + 1) + C₁ + 3)   t ⋅(3⋅C₁⋅(-\n",
       "y(t) = ─────────── + ───────────── + ─────────────────────────── + ───────────\n",
       "            2              6                      24                          \n",
       "\n",
       "                                         \n",
       "6⋅C₁ + 5) - 8⋅C₁ - 9)                ⎛ 6⎞\n",
       "───────────────────── + C₁ + C₁⋅t + O⎝t ⎠\n",
       "   120                                   "
      ]
     },
     "execution_count": 79,
     "metadata": {},
     "output_type": "execute_result"
    }
   ],
   "source": [
    "sympy.dsolve(sympy.diff(y(t), t) + y(t)**2 - sympy.exp(-t), y(t))"
   ]
  },
  {
   "cell_type": "markdown",
   "metadata": {},
   "source": [
    "## Exercise 2\n",
    "\n",
    "Investigate the help for the `dsolve` function to straightforwardly impose the initial condition $y(0) = 1$ using the `ics` argument. Using this, compute the specific solutions that satisfy the ODE for $n = 2, \\dots, 10$."
   ]
  },
  {
   "cell_type": "markdown",
   "metadata": {},
   "source": [
    "#### Solution"
   ]
  },
  {
   "cell_type": "code",
   "execution_count": 80,
   "metadata": {
    "collapsed": false
   },
   "outputs": [
    {
     "name": "stdout",
     "output_type": "stream",
     "text": [
      "y(t) == 1 - t**2/2 + t**3/2 - 7*t**4/24 + 3*t**5/40 + O(t**6)\n",
      "y(t) == 1 - t**2/2 + 2*t**3/3 - 13*t**4/24 + 11*t**5/60 + O(t**6)\n",
      "y(t) == 1 - t**2/2 + 5*t**3/6 - 7*t**4/8 + 49*t**5/120 + O(t**6)\n",
      "y(t) == 1 - t**2/2 + t**3 - 31*t**4/24 + 4*t**5/5 + O(t**6)\n",
      "y(t) == 1 - t**2/2 + 7*t**3/6 - 43*t**4/24 + 169*t**5/120 + O(t**6)\n",
      "y(t) == 1 - t**2/2 + 4*t**3/3 - 19*t**4/8 + 137*t**5/60 + O(t**6)\n",
      "y(t) == 1 - t**2/2 + 3*t**3/2 - 73*t**4/24 + 139*t**5/40 + O(t**6)\n",
      "y(t) == 1 - t**2/2 + 5*t**3/3 - 91*t**4/24 + 151*t**5/30 + O(t**6)\n",
      "y(t) == 1 - t**2/2 + 11*t**3/6 - 37*t**4/8 + 841*t**5/120 + O(t**6)\n"
     ]
    }
   ],
   "source": [
    "for n in range(2, 11):\n",
    "    ode_solution = sympy.dsolve(sympy.diff(y(t), t) + y(t)**n - sympy.exp(-t), y(t), \n",
    "                                ics = {y(0) : 1})\n",
    "    print(ode_solution)"
   ]
  },
  {
   "cell_type": "markdown",
   "metadata": {},
   "source": [
    "## Exercise 3\n",
    "\n",
    "Using the `removeO` command, plot each of these solutions for $t \\in [0, 1]$."
   ]
  },
  {
   "cell_type": "code",
   "execution_count": 81,
   "metadata": {
    "collapsed": false
   },
   "outputs": [
    {
     "data": {
      "image/png": "[encoded data removed]",
      "text/plain": [
       "<matplotlib.figure.Figure at 0x18b0bbcf8>"
      ]
     },
     "metadata": {},
     "output_type": "display_data"
    },
    {
     "data": {
      "image/png": "[encoded data removed]",
      "text/plain": [
       "<matplotlib.figure.Figure at 0x18b047ac8>"
      ]
     },
     "metadata": {},
     "output_type": "display_data"
    },
    {
     "data": {
      "image/png": "[encoded data removed]",
      "text/plain": [
       "<matplotlib.figure.Figure at 0x18a0a14e0>"
      ]
     },
     "metadata": {},
     "output_type": "display_data"
    },
    {
     "data": {
      "image/png": "[encoded data removed]",
      "text/plain": [
       "<matplotlib.figure.Figure at 0x18b27dd30>"
      ]
     },
     "metadata": {},
     "output_type": "display_data"
    },
    {
     "data": {
      "image/png": "[encoded data removed]",
      "text/plain": [
       "<matplotlib.figure.Figure at 0x18b31bdd8>"
      ]
     },
     "metadata": {},
     "output_type": "display_data"
    },
    {
     "data": {
      "image/png": "[encoded data removed]",
      "text/plain": [
       "<matplotlib.figure.Figure at 0x18b2a0390>"
      ]
     },
     "metadata": {},
     "output_type": "display_data"
    },
    {
     "data": {
      "image/png": "[encoded data removed]",
      "text/plain": [
       "<matplotlib.figure.Figure at 0x18b1a13c8>"
      ]
     },
     "metadata": {},
     "output_type": "display_data"
    },
    {
     "data": {
      "image/png": "[encoded data removed]",
      "text/plain": [
       "<matplotlib.figure.Figure at 0x188d79d68>"
      ]
     },
     "metadata": {},
     "output_type": "display_data"
    },
    {
     "data": {
      "image/png": "[encoded data removed]",
      "text/plain": [
       "<matplotlib.figure.Figure at 0x18afbc5c0>"
      ]
     },
     "metadata": {},
     "output_type": "display_data"
    }
   ],
   "source": [
    "%matplotlib inline\n",
    "\n",
    "for n in range(2, 11):\n",
    "    ode_solution = sympy.dsolve(sympy.diff(y(t), t) + y(t)**n - sympy.exp(-t), y(t), \n",
    "                                ics = {y(0) : 1})\n",
    "    sympy.plot(ode_solution.rhs.removeO(), (t, 0, 1));"
   ]
  },
  {
   "cell_type": "markdown",
   "metadata": {},
   "source": [
    "# Twin primes"
   ]
  },
  {
   "cell_type": "markdown",
   "metadata": {},
   "source": [
    "A *twin prime* is a pair $(p_1, p_2)$ such that both $p_1$ and $p_2$ are prime and $p_2 = p_1 + 2$."
   ]
  },
  {
   "cell_type": "markdown",
   "metadata": {},
   "source": [
    "## Exercise 1\n",
    "\n",
    "Write a generator that returns twin primes. You can use the generators above, and may want to look at the [itertools](https://docs.python.org/3/library/itertools.html) module together with [its recipes](https://docs.python.org/3/library/itertools.html#itertools-recipes), particularly the `pairwise` recipe."
   ]
  },
  {
   "cell_type": "markdown",
   "metadata": {},
   "source": [
    "#### Solution\n",
    "\n",
    "Note: we need to first pull in the generators introduced in that notebook"
   ]
  },
  {
   "cell_type": "code",
   "execution_count": 82,
   "metadata": {
    "collapsed": true
   },
   "outputs": [],
   "source": [
    "def all_primes(N):\n",
    "    \"\"\"\n",
    "    Return all primes less than or equal to N.\n",
    "    \n",
    "    Parameters\n",
    "    ----------\n",
    "    \n",
    "    N : int\n",
    "        Maximum number\n",
    "        \n",
    "    Returns\n",
    "    -------\n",
    "    \n",
    "    prime : generator\n",
    "        Prime numbers\n",
    "    \"\"\"\n",
    "    \n",
    "    primes = []\n",
    "    for n in range(2, N+1):\n",
    "        is_n_prime = True\n",
    "        for p in primes:\n",
    "            if n%p == 0:\n",
    "                is_n_prime = False\n",
    "                break\n",
    "        if is_n_prime:\n",
    "            primes.append(n)\n",
    "            yield n"
   ]
  },
  {
   "cell_type": "markdown",
   "metadata": {},
   "source": [
    "Now we can generate pairs using the pairwise recipe:"
   ]
  },
  {
   "cell_type": "code",
   "execution_count": 83,
   "metadata": {
    "collapsed": true
   },
   "outputs": [],
   "source": [
    "from itertools import tee\n",
    "\n",
    "def pair_primes(N):\n",
    "    \"Generate consecutive prime pairs, using the itertools recipe\"\n",
    "    a, b = tee(all_primes(N))\n",
    "    next(b, None)\n",
    "    return zip(a, b)"
   ]
  },
  {
   "cell_type": "markdown",
   "metadata": {},
   "source": [
    "We could examine the results of the two primes directly. But an efficient solution is to use python's [filter function](https://docs.python.org/3/library/functions.html#filter). To do this, first define a function checking if the pair are *twin* primes:"
   ]
  },
  {
   "cell_type": "code",
   "execution_count": 84,
   "metadata": {
    "collapsed": true
   },
   "outputs": [],
   "source": [
    "def check_twin(pair):\n",
    "    \"\"\"\n",
    "    Take in a pair of integers, check if they differ by 2.\n",
    "    \"\"\"\n",
    "    p1, p2 = pair\n",
    "    return p2-p1 == 2"
   ]
  },
  {
   "cell_type": "markdown",
   "metadata": {},
   "source": [
    "Then use the `filter` function to define another generator:"
   ]
  },
  {
   "cell_type": "code",
   "execution_count": 85,
   "metadata": {
    "collapsed": true
   },
   "outputs": [],
   "source": [
    "def twin_primes(N):\n",
    "    \"\"\"\n",
    "    Return all twin primes\n",
    "    \"\"\"\n",
    "    return filter(check_twin, pair_primes(N))"
   ]
  },
  {
   "cell_type": "markdown",
   "metadata": {},
   "source": [
    "Now check by finding the twin primes with $N<20$:"
   ]
  },
  {
   "cell_type": "code",
   "execution_count": 86,
   "metadata": {
    "collapsed": false
   },
   "outputs": [
    {
     "name": "stdout",
     "output_type": "stream",
     "text": [
      "(3, 5)\n",
      "(5, 7)\n",
      "(11, 13)\n",
      "(17, 19)\n"
     ]
    }
   ],
   "source": [
    "for tp in twin_primes(20):\n",
    "    print(tp)"
   ]
  },
  {
   "cell_type": "markdown",
   "metadata": {},
   "source": [
    "## Exercise 2\n",
    "\n",
    "Find how many twin primes there are with $p_2 < 1000$."
   ]
  },
  {
   "cell_type": "markdown",
   "metadata": {},
   "source": [
    "#### Solution"
   ]
  },
  {
   "cell_type": "markdown",
   "metadata": {},
   "source": [
    "Again there are many solutions, but the itertools recipes has the `quantify` pattern. Looking ahead to exercise 3 we'll define:"
   ]
  },
  {
   "cell_type": "code",
   "execution_count": 87,
   "metadata": {
    "collapsed": true
   },
   "outputs": [],
   "source": [
    "def pi_N(N):\n",
    "    \"\"\"\n",
    "    Use the quantify pattern from itertools to count the number of twin primes.\n",
    "    \"\"\"\n",
    "    return sum(map(check_twin, pair_primes(N)))"
   ]
  },
  {
   "cell_type": "code",
   "execution_count": 88,
   "metadata": {
    "collapsed": false
   },
   "outputs": [
    {
     "data": {
      "image/png": "[encoded data removed]",
      "text/latex": [
       "$$35$$"
      ],
      "text/plain": [
       "35"
      ]
     },
     "execution_count": 88,
     "metadata": {},
     "output_type": "execute_result"
    }
   ],
   "source": [
    "pi_N(1000)"
   ]
  },
  {
   "cell_type": "markdown",
   "metadata": {},
   "source": [
    "## Exercise 3\n",
    "\n",
    "Let $\\pi_N$ be the number of twin primes such that $p_2 < N$. Plot how $\\pi_N / N$ varies with $N$ for $N=2^k$ and $k = 4, 5, \\dots 16$. (You should use a logarithmic scale where appropriate!)"
   ]
  },
  {
   "cell_type": "markdown",
   "metadata": {},
   "source": [
    "#### Solution"
   ]
  },
  {
   "cell_type": "markdown",
   "metadata": {},
   "source": [
    "We've now done all the hard work and can use the solutions above."
   ]
  },
  {
   "cell_type": "code",
   "execution_count": 89,
   "metadata": {
    "collapsed": true
   },
   "outputs": [],
   "source": [
    "import numpy\n",
    "from matplotlib import pyplot\n",
    "%matplotlib inline"
   ]
  },
  {
   "cell_type": "code",
   "execution_count": 90,
   "metadata": {
    "collapsed": false
   },
   "outputs": [],
   "source": [
    "N = numpy.array([2**k for k in range(4, 17)])\n",
    "twin_prime_fraction = numpy.array(list(map(pi_N, N))) / N"
   ]
  },
  {
   "cell_type": "code",
   "execution_count": 91,
   "metadata": {
    "collapsed": false
   },
   "outputs": [
    {
     "data": {
      "image/png": "[encoded data removed]",
      "text/plain": [
       "<matplotlib.figure.Figure at 0x18b1b9588>"
      ]
     },
     "metadata": {},
     "output_type": "display_data"
    }
   ],
   "source": [
    "pyplot.semilogx(N, twin_prime_fraction)\n",
    "pyplot.xlabel(r\"$N$\")\n",
    "pyplot.ylabel(r\"$\\pi_N / N$\")\n",
    "pyplot.show()"
   ]
  },
  {
   "cell_type": "markdown",
   "metadata": {},
   "source": [
    "For those that have checked Wikipedia, you'll see [Brun's theorem](https://en.wikipedia.org/wiki/Twin_prime#Brun.27s_theorem) which suggests a specific scaling, that $\\pi_N$ is bounded by $C N / \\log(N)^2$. Checking this numerically on this data:"
   ]
  },
  {
   "cell_type": "code",
   "execution_count": 92,
   "metadata": {
    "collapsed": false
   },
   "outputs": [
    {
     "data": {
      "image/png": "[encoded data removed]",
      "text/plain": [
       "<matplotlib.figure.Figure at 0x18b1b34e0>"
      ]
     },
     "metadata": {},
     "output_type": "display_data"
    }
   ],
   "source": [
    "pyplot.semilogx(N, twin_prime_fraction * numpy.log(N)**2)\n",
    "pyplot.xlabel(r\"$N$\")\n",
    "pyplot.ylabel(r\"$\\pi_N \\times \\log(N)^2 / N$\")\n",
    "pyplot.show()"
   ]
  },
  {
   "cell_type": "markdown",
   "metadata": {},
   "source": [
    "# A basis for the polynomials"
   ]
  },
  {
   "cell_type": "markdown",
   "metadata": {},
   "source": [
    "In the section on classes we defined a `Monomial` class to represent a polynomial with leading coefficient $1$. As the $N+1$ monomials $1, x, x^2, \\dots, x^N$ form a basis for the vector space of polynomials of order $N$, $\\mathbb{P}^N$, we can use the `Monomial` class to return this basis.\n",
    "\n",
    "## Exercise 1\n",
    "\n",
    "Define a generator that will iterate through this basis of $\\mathbb{P}^N$ and test it on $\\mathbb{P}^3$."
   ]
  },
  {
   "cell_type": "markdown",
   "metadata": {},
   "source": [
    "#### Solution"
   ]
  },
  {
   "cell_type": "markdown",
   "metadata": {},
   "source": [
    "Again we first take the definition of the crucial class from the notes."
   ]
  },
  {
   "cell_type": "code",
   "execution_count": 93,
   "metadata": {
    "collapsed": true
   },
   "outputs": [],
   "source": [
    "class Polynomial(object):\n",
    "    \"\"\"Representing a polynomial.\"\"\"\n",
    "    explanation = \"I am a polynomial\"\n",
    "    \n",
    "    def __init__(self, roots, leading_term):\n",
    "        self.roots = roots\n",
    "        self.leading_term = leading_term\n",
    "        self.order = len(roots)\n",
    "        \n",
    "    def __repr__(self):\n",
    "        string = str(self.leading_term)\n",
    "        for root in self.roots:\n",
    "            if root == 0:\n",
    "                string = string + \"x\"\n",
    "            elif root > 0:\n",
    "                string = string + \"(x - {})\".format(root)\n",
    "            else:\n",
    "                string = string + \"(x + {})\".format(-root)\n",
    "        return string\n",
    "    \n",
    "    def __mul__(self, other):\n",
    "        roots = self.roots + other.roots\n",
    "        leading_term = self.leading_term * other.leading_term\n",
    "        return Polynomial(roots, leading_term)\n",
    "    \n",
    "    def explain_to(self, caller):\n",
    "        print(\"Hello, {}. {}.\".format(caller,self.explanation))\n",
    "        print(\"My roots are {}.\".format(self.roots))\n",
    "        return None"
   ]
  },
  {
   "cell_type": "code",
   "execution_count": 94,
   "metadata": {
    "collapsed": true
   },
   "outputs": [],
   "source": [
    "class Monomial(Polynomial):\n",
    "    \"\"\"Representing a monomial, which is a polynomial with leading term 1.\"\"\"\n",
    "    explanation = \"I am a monomial\"\n",
    "    \n",
    "    def __init__(self, roots):\n",
    "        Polynomial.__init__(self, roots, 1)\n",
    "        \n",
    "    def __repr__(self):\n",
    "        string = \"\"\n",
    "        for root in self.roots:\n",
    "            if root == 0:\n",
    "                string = string + \"x\"\n",
    "            elif root > 0:\n",
    "                string = string + \"(x - {})\".format(root)\n",
    "            else:\n",
    "                string = string + \"(x + {})\".format(-root)\n",
    "        return string"
   ]
  },
  {
   "cell_type": "markdown",
   "metadata": {},
   "source": [
    "Now we can define the first basis:"
   ]
  },
  {
   "cell_type": "code",
   "execution_count": 95,
   "metadata": {
    "collapsed": true
   },
   "outputs": [],
   "source": [
    "def basis_pN(N):\n",
    "    \"\"\"\n",
    "    A generator for the simplest basis of P^N.\n",
    "    \"\"\"\n",
    "    \n",
    "    for n in range(N+1):\n",
    "        yield Monomial(n*[0])"
   ]
  },
  {
   "cell_type": "markdown",
   "metadata": {},
   "source": [
    "Then test it on $\\mathbb{P}^N$:"
   ]
  },
  {
   "cell_type": "code",
   "execution_count": 96,
   "metadata": {
    "collapsed": false
   },
   "outputs": [
    {
     "name": "stdout",
     "output_type": "stream",
     "text": [
      "\n",
      "x\n",
      "xx\n",
      "xxx\n"
     ]
    }
   ],
   "source": [
    "for poly in basis_pN(3):\n",
    "    print(poly)"
   ]
  },
  {
   "cell_type": "markdown",
   "metadata": {},
   "source": [
    "This looks horrible, but is correct. To really make this look good, we need to improve the output. If we use"
   ]
  },
  {
   "cell_type": "code",
   "execution_count": 97,
   "metadata": {
    "collapsed": true
   },
   "outputs": [],
   "source": [
    "class Monomial(Polynomial):\n",
    "    \"\"\"Representing a monomial, which is a polynomial with leading term 1.\"\"\"\n",
    "    explanation = \"I am a monomial\"\n",
    "    \n",
    "    def __init__(self, roots):\n",
    "        Polynomial.__init__(self, roots, 1)\n",
    "        \n",
    "    def __repr__(self):\n",
    "        if len(self.roots):\n",
    "            string = \"\"\n",
    "            n_zero_roots = len(self.roots) - numpy.count_nonzero(self.roots)\n",
    "            if n_zero_roots == 1:\n",
    "                string = \"x\"\n",
    "            elif n_zero_roots > 1:\n",
    "                string = \"x^{}\".format(n_zero_roots)\n",
    "        else: # Monomial degree 0.\n",
    "            string = \"1\"\n",
    "        for root in self.roots:\n",
    "            if root > 0:\n",
    "                string = string + \"(x - {})\".format(root)\n",
    "            elif root < 0:\n",
    "                string = string + \"(x + {})\".format(-root)\n",
    "        return string"
   ]
  },
  {
   "cell_type": "markdown",
   "metadata": {},
   "source": [
    "then we can deal with the uglier cases, and re-running the test we get"
   ]
  },
  {
   "cell_type": "code",
   "execution_count": 98,
   "metadata": {
    "collapsed": false
   },
   "outputs": [
    {
     "name": "stdout",
     "output_type": "stream",
     "text": [
      "1\n",
      "x\n",
      "x^2\n",
      "x^3\n"
     ]
    }
   ],
   "source": [
    "for poly in basis_pN(3):\n",
    "    print(poly)"
   ]
  },
  {
   "cell_type": "markdown",
   "metadata": {},
   "source": [
    "An even better solution would be to use the `numpy.unique` function as in [this stackoverflow answer](http://stackoverflow.com/questions/10741346/numpy-most-efficient-frequency-counts-for-unique-values-in-an-array) (the second one!) to get the frequency of all the roots."
   ]
  },
  {
   "cell_type": "markdown",
   "metadata": {},
   "source": [
    "## Exercise 2\n",
    "\n",
    "An alternative basis is given by the monomials\n",
    "\n",
    "\\begin{align}\n",
    "  p_0(x) &= 1, \\\\ p_1(x) &= 1-x, \\\\ p_2(x) &= (1-x)(2-x), \\\\ \\dots & \\quad \\dots, \\\\ p_N(x) &= \\prod_{n=1}^N (n-x).\n",
    "\\end{align}\n",
    "\n",
    "Define a generator that will iterate through this basis of $\\mathbb{P}^N$ and test it on $\\mathbb{P}^4$."
   ]
  },
  {
   "cell_type": "markdown",
   "metadata": {},
   "source": [
    "#### Solution"
   ]
  },
  {
   "cell_type": "code",
   "execution_count": 99,
   "metadata": {
    "collapsed": true
   },
   "outputs": [],
   "source": [
    "def basis_pN_variant(N):\n",
    "    \"\"\"\n",
    "    A generator for the 'sum' basis of P^N.\n",
    "    \"\"\"\n",
    "    \n",
    "    for n in range(N+1):\n",
    "        yield Monomial(range(n+1))"
   ]
  },
  {
   "cell_type": "code",
   "execution_count": 100,
   "metadata": {
    "collapsed": false
   },
   "outputs": [
    {
     "name": "stdout",
     "output_type": "stream",
     "text": [
      "x\n",
      "x(x - 1)\n",
      "x(x - 1)(x - 2)\n",
      "x(x - 1)(x - 2)(x - 3)\n",
      "x(x - 1)(x - 2)(x - 3)(x - 4)\n"
     ]
    }
   ],
   "source": [
    "for poly in basis_pN_variant(4):\n",
    "    print(poly)"
   ]
  },
  {
   "cell_type": "markdown",
   "metadata": {},
   "source": [
    "I am too lazy to work back through the definitions and flip all the signs; it should be clear how to do this!"
   ]
  },
  {
   "cell_type": "markdown",
   "metadata": {},
   "source": [
    "## Exercise 3\n",
    "\n",
    "Use these generators to write another generator that produces a basis of $\\mathbb{P^3} \\times \\mathbb{P^4}$."
   ]
  },
  {
   "cell_type": "markdown",
   "metadata": {},
   "source": [
    "#### Solution"
   ]
  },
  {
   "cell_type": "markdown",
   "metadata": {},
   "source": [
    "Hopefully by now you'll be aware of how useful `itertools` is!"
   ]
  },
  {
   "cell_type": "code",
   "execution_count": 101,
   "metadata": {
    "collapsed": true
   },
   "outputs": [],
   "source": [
    "from itertools import product"
   ]
  },
  {
   "cell_type": "code",
   "execution_count": 102,
   "metadata": {
    "collapsed": true
   },
   "outputs": [],
   "source": [
    "def basis_product():\n",
    "    \"\"\"\n",
    "    Basis of the product space\n",
    "    \"\"\"\n",
    "    yield from product(basis_pN(3), basis_pN_variant(4))"
   ]
  },
  {
   "cell_type": "code",
   "execution_count": 103,
   "metadata": {
    "collapsed": false
   },
   "outputs": [
    {
     "name": "stdout",
     "output_type": "stream",
     "text": [
      "Basis element is (1) X (x).\n",
      "Basis element is (1) X (x(x - 1)).\n",
      "Basis element is (1) X (x(x - 1)(x - 2)).\n",
      "Basis element is (1) X (x(x - 1)(x - 2)(x - 3)).\n",
      "Basis element is (1) X (x(x - 1)(x - 2)(x - 3)(x - 4)).\n",
      "Basis element is (x) X (x).\n",
      "Basis element is (x) X (x(x - 1)).\n",
      "Basis element is (x) X (x(x - 1)(x - 2)).\n",
      "Basis element is (x) X (x(x - 1)(x - 2)(x - 3)).\n",
      "Basis element is (x) X (x(x - 1)(x - 2)(x - 3)(x - 4)).\n",
      "Basis element is (x^2) X (x).\n",
      "Basis element is (x^2) X (x(x - 1)).\n",
      "Basis element is (x^2) X (x(x - 1)(x - 2)).\n",
      "Basis element is (x^2) X (x(x - 1)(x - 2)(x - 3)).\n",
      "Basis element is (x^2) X (x(x - 1)(x - 2)(x - 3)(x - 4)).\n",
      "Basis element is (x^3) X (x).\n",
      "Basis element is (x^3) X (x(x - 1)).\n",
      "Basis element is (x^3) X (x(x - 1)(x - 2)).\n",
      "Basis element is (x^3) X (x(x - 1)(x - 2)(x - 3)).\n",
      "Basis element is (x^3) X (x(x - 1)(x - 2)(x - 3)(x - 4)).\n"
     ]
    }
   ],
   "source": [
    "for p1, p2 in basis_product():\n",
    "    print(\"Basis element is ({}) X ({}).\".format(p1, p2))"
   ]
  },
  {
   "cell_type": "markdown",
   "metadata": {},
   "source": [
    "I've cheated here as I haven't introduced the `yield from` syntax (which returns an iterator from a generator). We could write this out instead as"
   ]
  },
  {
   "cell_type": "code",
   "execution_count": 104,
   "metadata": {
    "collapsed": true
   },
   "outputs": [],
   "source": [
    "def basis_product_long_form():\n",
    "    \"\"\"\n",
    "    Basis of the product space (without using yield_from)\n",
    "    \"\"\"\n",
    "    prod = product(basis_pN(3), basis_pN_variant(4))\n",
    "    yield next(prod)"
   ]
  },
  {
   "cell_type": "code",
   "execution_count": 105,
   "metadata": {
    "collapsed": false
   },
   "outputs": [
    {
     "name": "stdout",
     "output_type": "stream",
     "text": [
      "Basis element is (1) X (x).\n",
      "Basis element is (1) X (x(x - 1)).\n",
      "Basis element is (1) X (x(x - 1)(x - 2)).\n",
      "Basis element is (1) X (x(x - 1)(x - 2)(x - 3)).\n",
      "Basis element is (1) X (x(x - 1)(x - 2)(x - 3)(x - 4)).\n",
      "Basis element is (x) X (x).\n",
      "Basis element is (x) X (x(x - 1)).\n",
      "Basis element is (x) X (x(x - 1)(x - 2)).\n",
      "Basis element is (x) X (x(x - 1)(x - 2)(x - 3)).\n",
      "Basis element is (x) X (x(x - 1)(x - 2)(x - 3)(x - 4)).\n",
      "Basis element is (x^2) X (x).\n",
      "Basis element is (x^2) X (x(x - 1)).\n",
      "Basis element is (x^2) X (x(x - 1)(x - 2)).\n",
      "Basis element is (x^2) X (x(x - 1)(x - 2)(x - 3)).\n",
      "Basis element is (x^2) X (x(x - 1)(x - 2)(x - 3)(x - 4)).\n",
      "Basis element is (x^3) X (x).\n",
      "Basis element is (x^3) X (x(x - 1)).\n",
      "Basis element is (x^3) X (x(x - 1)(x - 2)).\n",
      "Basis element is (x^3) X (x(x - 1)(x - 2)(x - 3)).\n",
      "Basis element is (x^3) X (x(x - 1)(x - 2)(x - 3)(x - 4)).\n"
     ]
    }
   ],
   "source": [
    "for p1, p2 in basis_product():\n",
    "    print(\"Basis element is ({}) X ({}).\".format(p1, p2))"
   ]
  },
  {
   "cell_type": "markdown",
   "metadata": {},
   "source": [
    "# Anscombe's quartet"
   ]
  },
  {
   "cell_type": "markdown",
   "metadata": {},
   "source": [
    "Four separate datasets are given:\n",
    "\n",
    "| x    | y     | x    | y    | x    | y     | x    | y     |\n",
    "|------|-------|------|------|------|-------|------|-------|\n",
    "| 10.0 | 8.04  | 10.0 | 9.14 | 10.0 | 7.46  | 8.0  | 6.58  |\n",
    "| 8.0  | 6.95  | 8.0  | 8.14 | 8.0  | 6.77  | 8.0  | 5.76  |\n",
    "| 13.0 | 7.58  | 13.0 | 8.74 | 13.0 | 12.74 | 8.0  | 7.71  |\n",
    "| 9.0  | 8.81  | 9.0  | 8.77 | 9.0  | 7.11  | 8.0  | 8.84  |\n",
    "| 11.0 | 8.33  | 11.0 | 9.26 | 11.0 | 7.81  | 8.0  | 8.47  |\n",
    "| 14.0 | 9.96  | 14.0 | 8.10 | 14.0 | 8.84  | 8.0  | 7.04  |\n",
    "| 6.0  | 7.24  | 6.0  | 6.13 | 6.0  | 6.08  | 8.0  | 5.25  |\n",
    "| 4.0  | 4.26  | 4.0  | 3.10 | 4.0  | 5.39  | 19.0 | 12.50 |\n",
    "| 12.0 | 10.84 | 12.0 | 9.13 | 12.0 | 8.15  | 8.0  | 5.56  |\n",
    "| 7.0  | 4.82  | 7.0  | 7.26 | 7.0  | 6.42  | 8.0  | 7.91  |\n",
    "| 5.0  | 5.68  | 5.0  | 4.74 | 5.0  | 5.73  | 8.0  | 6.89  |"
   ]
  },
  {
   "cell_type": "markdown",
   "metadata": {},
   "source": [
    "## Exercise 1\n",
    "\n",
    "Using standard `numpy` operations, show that each dataset has the same mean and standard deviation, to two decimal places."
   ]
  },
  {
   "cell_type": "markdown",
   "metadata": {},
   "source": [
    "#### Solution"
   ]
  },
  {
   "cell_type": "code",
   "execution_count": 2,
   "metadata": {
    "collapsed": true
   },
   "outputs": [],
   "source": [
    "import numpy"
   ]
  },
  {
   "cell_type": "code",
   "execution_count": 7,
   "metadata": {
    "collapsed": false
   },
   "outputs": [],
   "source": [
    "set1_x = numpy.array([10.0, 8.0, 13.0, 9.0, 11.0, 14.0, 6.0, 4.0, 12.0, 7.0, 5.0])\n",
    "set1_y = numpy.array([8.04, 6.95, 7.58, 8.81, 8.33, 9.96, 7.24, 4.26, 10.84, 4.82, 5.68])\n",
    "set2_x = numpy.array([10.0, 8.0, 13.0, 9.0, 11.0, 14.0, 6.0, 4.0, 12.0, 7.0, 5.0])\n",
    "set2_y = numpy.array([9.14, 8.14, 8.74, 8.77, 9.26, 8.10, 6.13, 3.10, 9.13, 7.26, 4.74])\n",
    "set3_x = numpy.array([10.0, 8.0, 13.0, 9.0, 11.0, 14.0, 6.0, 4.0, 12.0, 7.0, 5.0])\n",
    "set3_y = numpy.array([7.46, 6.77, 12.74, 7.11, 7.81, 8.84, 6.08, 5.39, 8.15, 6.42, 5.73])\n",
    "set4_x = numpy.array([8.0, 8.0, 8.0, 8.0, 8.0, 8.0, 8.0, 19.0, 8.0, 8.0, 8.0])\n",
    "set4_y = numpy.array([6.58, 5.76, 7.71, 8.84, 8.47, 7.04, 5.25, 12.50, 5.56, 7.91, 6.89])\n",
    "\n",
    "data_x = set1_x, set2_x, set3_x, set4_x\n",
    "data_y = set1_y, set2_y, set3_y, set4_y"
   ]
  },
  {
   "cell_type": "code",
   "execution_count": 8,
   "metadata": {
    "collapsed": false
   },
   "outputs": [
    {
     "name": "stdout",
     "output_type": "stream",
     "text": [
      "Results for x:\n",
      "Mean: 9.00. Variance 10.00. Standard deviation 3.16.\n",
      "Mean: 9.00. Variance 10.00. Standard deviation 3.16.\n",
      "Mean: 9.00. Variance 10.00. Standard deviation 3.16.\n",
      "Mean: 9.00. Variance 10.00. Standard deviation 3.16.\n",
      "Results for y:\n",
      "Mean: 7.50. Variance 3.75. Standard deviation 1.94.\n",
      "Mean: 7.50. Variance 3.75. Standard deviation 1.94.\n",
      "Mean: 7.50. Variance 3.75. Standard deviation 1.94.\n",
      "Mean: 7.50. Variance 3.75. Standard deviation 1.94.\n"
     ]
    }
   ],
   "source": [
    "print(\"Results for x:\")\n",
    "for x in data_x:\n",
    "    print(\"Mean: {:.2f}. Variance {:.2f}. Standard deviation {:.2f}.\".format(numpy.mean(x),\n",
    "                                                                            numpy.var(x),\n",
    "                                                                            numpy.std(x)))\n",
    "print(\"Results for y:\")\n",
    "for data in data_y:\n",
    "    print(\"Mean: {:.2f}. Variance {:.2f}. Standard deviation {:.2f}.\".format(numpy.mean(data),\n",
    "                                                                             numpy.var(data),\n",
    "                                                                             numpy.std(data)))"
   ]
  },
  {
   "cell_type": "markdown",
   "metadata": {},
   "source": [
    "## Exercise 2\n",
    "\n",
    "Using the standard `scipy` function, compute the linear regression of each data set and show that the slope and correlation coefficient match to two decimal places."
   ]
  },
  {
   "cell_type": "code",
   "execution_count": 10,
   "metadata": {
    "collapsed": false
   },
   "outputs": [
    {
     "name": "stdout",
     "output_type": "stream",
     "text": [
      "Slope: 0.500. Correlation: 0.816.\n",
      "Slope: 0.500. Correlation: 0.816.\n",
      "Slope: 0.500. Correlation: 0.816.\n",
      "Slope: 0.500. Correlation: 0.817.\n"
     ]
    }
   ],
   "source": [
    "from scipy import stats\n",
    "\n",
    "for x, y in zip(data_x, data_y):\n",
    "    slope, intercept, r_value, p_value, std_err = stats.linregress(x, y)\n",
    "    print(\"Slope: {:.2f}. Correlation: {:.2f}.\".format(slope, r_value))"
   ]
  },
  {
   "cell_type": "markdown",
   "metadata": {},
   "source": [
    "## Exercise 3\n",
    "\n",
    "Plot each dataset. Add the best fit line. Then look at the description of [Anscombe's quartet](https://en.wikipedia.org/wiki/Anscombe%27s_quartet), and consider in what order the operations in this exercise *should* have been done."
   ]
  },
  {
   "cell_type": "code",
   "execution_count": 15,
   "metadata": {
    "collapsed": false
   },
   "outputs": [
    {
     "data": {
      "image/png": "[encoded data removed]",
      "text/plain": [
       "<matplotlib.figure.Figure at 0x1101d2940>"
      ]
     },
     "metadata": {},
     "output_type": "display_data"
    }
   ],
   "source": [
    "%matplotlib inline\n",
    "from matplotlib import pyplot\n",
    "\n",
    "fit_x = numpy.linspace(2.0, 20.0)\n",
    "fig = pyplot.figure(figsize=(12,6))\n",
    "for i in range(4):\n",
    "    slope, intercept, r_value, p_value, std_err = stats.linregress(data_x[i], data_y[i])\n",
    "    ax = fig.add_subplot(2,2,i+1)\n",
    "    ax.scatter(data_x[i], data_y[i])\n",
    "    ax.plot(fit_x, intercept + slope*fit_x)\n",
    "    ax.set_xlim(2.0, 20.0)\n",
    "    ax.set_xlabel(r'$x$')\n",
    "    ax.set_ylabel(r'$y$')\n",
    "pyplot.show()"
   ]
  }
 ],
 "metadata": {
  "kernelspec": {
   "display_name": "Python 3",
   "language": "python",
   "name": "python3"
  },
  "language_info": {
   "codemirror_mode": {
    "name": "ipython",
    "version": 3
   },
   "file_extension": ".py",
   "mimetype": "text/x-python",
   "name": "python",
   "nbconvert_exporter": "python",
   "pygments_lexer": "ipython3",
   "version": "3.4.4"
  }
 },
 "nbformat": 4,
 "nbformat_minor": 0
}
