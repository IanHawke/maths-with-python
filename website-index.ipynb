{
 "cells": [
  {
   "cell_type": "markdown",
   "metadata": {},
   "source": [
    "# Maths with Python\n",
    "\n",
    "The following pages outline an introduction to Python aimed at mathematicians. In particular, it should form the basis for a self-paced course for first year undergraduates in [Mathematical Sciences](http://www.southampton.ac.uk/maths) at the [University of Southampton](http://www.southampton.ac.uk/)."
   ]
  },
  {
   "cell_type": "markdown",
   "metadata": {},
   "source": [
    "The [opening page](00-first-steps.html), mostly introduces how to install the software, and how to think about the course.\n",
    "\n",
    "The essential sections of the course are on\n",
    "\n",
    "* [the basics](01-python-basics.html)\n",
    "* [functions and programs](02-programs.html)\n",
    "* [loops and control flow](03-loops-control-flow.html)\n",
    "* [basic plotting](04-basic-plotting.html).\n",
    "\n",
    "The [next page introduces classes](05-classes-oop.html), which should at least be started to get the most out of the rest. We then have three important sections on\n",
    "\n",
    "* [scientific Python](06-numpy-plotting.html)\n",
    "* [symbolic Python](07-sympy.html)\n",
    "* [statistics](08-statistics.html).\n",
    "\n",
    "Finally, there are three \"appendices\" on\n",
    "\n",
    "* [testing](09-exceptions-testing.html)\n",
    "* [generators](10-generators.html)\n",
    "* [more details on classes, including inheritance](11-more-classes.html)."
   ]
  },
  {
   "cell_type": "markdown",
   "metadata": {},
   "source": [
    "The [PDF notes](https://github.com/IanHawke/maths-with-python/tree/master/pdf) also contain a section introducing $\\LaTeX$."
   ]
  },
  {
   "cell_type": "markdown",
   "metadata": {},
   "source": [
    "This material is [hosted on GitHub](https://github.com/IanHawke/maths-with-python)."
   ]
  },
  {
   "cell_type": "markdown",
   "metadata": {},
   "source": [
    "There are [solutions to all the exercises available](ExercisesSolutions.html)."
   ]
  }
 ],
 "metadata": {
  "kernelspec": {
   "display_name": "Python 3",
   "language": "python",
   "name": "python3"
  },
  "language_info": {
   "codemirror_mode": {
    "name": "ipython",
    "version": 3
   },
   "file_extension": ".py",
   "mimetype": "text/x-python",
   "name": "python",
   "nbconvert_exporter": "python",
   "pygments_lexer": "ipython3",
   "version": "3.4.4"
  },
  "nbconvert": {
   "title": "Maths with Python"
  }
 },
 "nbformat": 4,
 "nbformat_minor": 0
}
